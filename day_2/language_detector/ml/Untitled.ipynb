{
 "cells": [
  {
   "cell_type": "code",
   "execution_count": 55,
   "metadata": {},
   "outputs": [],
   "source": [
    "\"\"\"Build a language detector model\n",
    "\n",
    "The goal of this exercise is to train a linear classifier on text features\n",
    "that represent sequences of up to N consecutive characters so as to be\n",
    "recognize natural languages by using the frequencies of short character\n",
    "sequences as 'fingerprints'.\n",
    "\n",
    "The script saves the trained model to disk for later use\n",
    "\"\"\"\n",
    "# Author: Olivier Grisel <olivier.grisel@ensta.org>\n",
    "# License: Simplified BSD\n",
    "# Adapted by: Francesco Mosconi\n",
    "\n",
    "import numpy as np\n",
    "from sklearn.datasets import load_files\n",
    "\n",
    "\n",
    "# The training data folder must be passed as first argument\n",
    "try:\n",
    "    dataset = load_files('./wikidata/short_paragraphs')\n",
    "except OSError as ex:\n",
    "    print(ex)\n",
    "    print(\"Couldn't import the data, did you unzip the wikidata.zip folder?\")\n",
    "    exit(-1)\n",
    "\n",
    "\n"
   ]
  },
  {
   "cell_type": "code",
   "execution_count": 56,
   "metadata": {},
   "outputs": [
    {
     "data": {
      "text/plain": [
       "array([4, 5, 3, ..., 5, 3, 3])"
      ]
     },
     "execution_count": 56,
     "metadata": {},
     "output_type": "execute_result"
    }
   ],
   "source": [
    "dataset.target"
   ]
  },
  {
   "cell_type": "code",
   "execution_count": 57,
   "metadata": {},
   "outputs": [
    {
     "data": {
      "text/plain": [
       "['ar', 'de', 'en', 'es', 'fr', 'it', 'nl', 'pl', 'pt', 'ru']"
      ]
     },
     "execution_count": 57,
     "metadata": {},
     "output_type": "execute_result"
    }
   ],
   "source": [
    "dataset.target_names"
   ]
  },
  {
   "cell_type": "code",
   "execution_count": 58,
   "metadata": {},
   "outputs": [],
   "source": [
    "docs = dataset.data\n",
    "y = dataset.target"
   ]
  },
  {
   "cell_type": "code",
   "execution_count": 59,
   "metadata": {},
   "outputs": [],
   "source": [
    "# TASK: Split the dataset in training and test set\n",
    "# (use 20% of the data for test):\n",
    "\n",
    "from sklearn.model_selection import train_test_split\n",
    "\n",
    "docs_train, docs_test, y_train, y_test = train_test_split(docs, y, test_size=.20, random_state=42)"
   ]
  },
  {
   "cell_type": "code",
   "execution_count": 60,
   "metadata": {},
   "outputs": [],
   "source": [
    "from sklearn.feature_extraction.text import TfidfVectorizer\n",
    "#vectorizer = TfidfVectorizer(ngram_range=(1, 4),\n",
    "vectorizer = TfidfVectorizer(ngram_range=(1, 4),\n",
    "                     analyzer='char')"
   ]
  },
  {
   "cell_type": "code",
   "execution_count": 61,
   "metadata": {},
   "outputs": [
    {
     "data": {
      "text/plain": [
       "Pipeline(memory=None,\n",
       "     steps=[('tfidfvectorizer', TfidfVectorizer(analyzer='char', binary=False, decode_error='strict',\n",
       "        dtype=<class 'numpy.int64'>, encoding='utf-8', input='content',\n",
       "        lowercase=True, max_df=1.0, max_features=None, min_df=1,\n",
       "        ngram_range=(1, 4), norm='l2', preprocessor=None, smooth_i...ty='l2', random_state=None, solver='liblinear', tol=0.0001,\n",
       "          verbose=0, warm_start=False))])"
      ]
     },
     "execution_count": 61,
     "metadata": {},
     "output_type": "execute_result"
    }
   ],
   "source": [
    "# TASK: Use the function make_pipeline to build a\n",
    "#       vectorizer / classifier pipeline\n",
    "#       using the previous analyzer\n",
    "#       and a classifier of choice.\n",
    "#       The pipeline instance should be\n",
    "#       stored in a variable named model\n",
    "from sklearn.pipeline import make_pipeline\n",
    "from sklearn.linear_model import LogisticRegression\n",
    "clf = LogisticRegression()\n",
    "model = make_pipeline(vectorizer, clf)\n",
    "model"
   ]
  },
  {
   "cell_type": "code",
   "execution_count": 62,
   "metadata": {},
   "outputs": [
    {
     "data": {
      "text/plain": [
       "Pipeline(memory=None,\n",
       "     steps=[('tfidfvectorizer', TfidfVectorizer(analyzer='char', binary=False, decode_error='strict',\n",
       "        dtype=<class 'numpy.int64'>, encoding='utf-8', input='content',\n",
       "        lowercase=True, max_df=1.0, max_features=None, min_df=1,\n",
       "        ngram_range=(1, 4), norm='l2', preprocessor=None, smooth_i...ty='l2', random_state=None, solver='liblinear', tol=0.0001,\n",
       "          verbose=0, warm_start=False))])"
      ]
     },
     "execution_count": 62,
     "metadata": {},
     "output_type": "execute_result"
    }
   ],
   "source": [
    "# TASK: Fit the pipeline on the training set\n",
    "model.fit(docs_train, y_train)"
   ]
  },
  {
   "cell_type": "code",
   "execution_count": 63,
   "metadata": {},
   "outputs": [],
   "source": [
    "# TASK: Predict the outcome on the testing set.\n",
    "# Store the result in a variable named y_predicted\n",
    "\n",
    "y_predicted = model.predict(docs_test)"
   ]
  },
  {
   "cell_type": "code",
   "execution_count": 64,
   "metadata": {},
   "outputs": [
    {
     "name": "stdout",
     "output_type": "stream",
     "text": [
      "             precision    recall  f1-score   support\n",
      "\n",
      "          0       1.00      1.00      1.00        62\n",
      "          1       0.97      0.98      0.97       193\n",
      "          2       0.91      0.99      0.95       221\n",
      "          3       0.95      0.94      0.95       213\n",
      "          4       0.97      0.99      0.98       223\n",
      "          5       0.97      0.97      0.97       198\n",
      "          6       1.00      0.82      0.90        78\n",
      "          7       0.99      0.96      0.98       112\n",
      "          8       0.97      0.94      0.95       207\n",
      "          9       1.00      0.98      0.99       185\n",
      "\n",
      "avg / total       0.97      0.97      0.96      1692\n",
      "\n"
     ]
    }
   ],
   "source": [
    "# TASK: Print the classification report\n",
    "\n",
    "from sklearn.metrics import classification_report\n",
    "\n",
    "print(classification_report(y_test, y_predicted))"
   ]
  },
  {
   "cell_type": "code",
   "execution_count": 65,
   "metadata": {},
   "outputs": [
    {
     "name": "stdout",
     "output_type": "stream",
     "text": [
      "[[ 62   0   0   0   0   0   0   0   0   0]\n",
      " [  0 189   3   1   0   0   0   0   0   0]\n",
      " [  0   1 219   0   1   0   0   0   0   0]\n",
      " [  0   0   1 201   0   4   0   1   6   0]\n",
      " [  0   0   1   1 221   0   0   0   0   0]\n",
      " [  0   0   3   2   0 193   0   0   0   0]\n",
      " [  0   5   6   1   2   0  64   0   0   0]\n",
      " [  0   0   2   0   1   0   0 108   1   0]\n",
      " [  0   0   2   6   4   0   0   0 195   0]\n",
      " [  0   0   3   0   0   1   0   0   0 181]]\n"
     ]
    }
   ],
   "source": [
    "# TASK: Print the confusion matrix. Bonus points if you make it pretty.\n",
    "\n",
    "from sklearn.metrics import confusion_matrix\n",
    "print(confusion_matrix(y_test, y_predicted))"
   ]
  },
  {
   "cell_type": "code",
   "execution_count": 66,
   "metadata": {},
   "outputs": [],
   "source": [
    "\n",
    "\n",
    "\n",
    "# TASK: Is the score good? Can you improve it changing\n",
    "#       the parameters or the classifier?\n",
    "#       Try using cross validation and grid search\n",
    "\n",
    "# TASK: Use dill and gzip to persist the trained model in memory.\n",
    "#       1) gzip.open a file called my_model.dill.gz\n",
    "#       2) dump to the file both your trained classifier\n",
    "#          and the target_names of the dataset (for later use)\n",
    "#    They should be passed as a list [model, dataset.target_names]\n",
    "\n"
   ]
  },
  {
   "cell_type": "code",
   "execution_count": null,
   "metadata": {},
   "outputs": [],
   "source": []
  },
  {
   "cell_type": "code",
   "execution_count": null,
   "metadata": {},
   "outputs": [],
   "source": []
  }
 ],
 "metadata": {
  "kernelspec": {
   "display_name": "Python 3",
   "language": "python",
   "name": "python3"
  },
  "language_info": {
   "codemirror_mode": {
    "name": "ipython",
    "version": 3
   },
   "file_extension": ".py",
   "mimetype": "text/x-python",
   "name": "python",
   "nbconvert_exporter": "python",
   "pygments_lexer": "ipython3",
   "version": "3.6.6"
  }
 },
 "nbformat": 4,
 "nbformat_minor": 2
}

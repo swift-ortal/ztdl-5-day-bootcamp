{
 "cells": [
  {
   "cell_type": "markdown",
   "metadata": {},
   "source": [
    "# Eager Execution\n",
    "\n",
    "Adapted from: https://www.tensorflow.org/get_started/eager"
   ]
  },
  {
   "cell_type": "code",
   "execution_count": 1,
   "metadata": {},
   "outputs": [],
   "source": [
    "import os\n",
    "import matplotlib.pyplot as plt\n",
    "\n",
    "import tensorflow as tf\n",
    "import tensorflow.contrib.eager as tfe\n",
    "tf.enable_eager_execution()"
   ]
  },
  {
   "cell_type": "code",
   "execution_count": 2,
   "metadata": {},
   "outputs": [],
   "source": [
    "import pandas as pd\n",
    "import numpy as np\n",
    "%matplotlib inline\n",
    "import matplotlib.pyplot as plt"
   ]
  },
  {
   "cell_type": "code",
   "execution_count": 3,
   "metadata": {},
   "outputs": [],
   "source": [
    "train_dataset_fp = '../data/iris_training.csv'"
   ]
  },
  {
   "cell_type": "code",
   "execution_count": 4,
   "metadata": {},
   "outputs": [
    {
     "name": "stdout",
     "output_type": "stream",
     "text": [
      "120,4,setosa,versicolor,virginica\n",
      "6.4,2.8,5.6,2.2,2\n",
      "5.0,2.3,3.3,1.0,1\n",
      "4.9,2.5,4.5,1.7,2\n",
      "4.9,3.1,1.5,0.1,0\n"
     ]
    }
   ],
   "source": [
    "!head -n5 {train_dataset_fp}"
   ]
  },
  {
   "cell_type": "markdown",
   "metadata": {},
   "source": [
    "## Csv parser"
   ]
  },
  {
   "cell_type": "code",
   "execution_count": 5,
   "metadata": {},
   "outputs": [],
   "source": [
    "def parse_csv(line):\n",
    "    example_defaults = [[0.], [0.], [0.], [0.], [0]]\n",
    "    parsed_line = tf.decode_csv(line, example_defaults)\n",
    "    features = tf.reshape(parsed_line[:-1], shape=(4,))\n",
    "    label = tf.reshape(parsed_line[-1], shape=())\n",
    "    return features, label"
   ]
  },
  {
   "cell_type": "markdown",
   "metadata": {},
   "source": [
    "## Dataset API"
   ]
  },
  {
   "cell_type": "code",
   "execution_count": 6,
   "metadata": {},
   "outputs": [],
   "source": [
    "train_dataset = tf.data.TextLineDataset(train_dataset_fp)\n",
    "train_dataset = train_dataset.skip(1)\n",
    "train_dataset = train_dataset.map(parse_csv)\n",
    "train_dataset = train_dataset.shuffle(buffer_size=1000)\n",
    "train_dataset = train_dataset.batch(32)"
   ]
  },
  {
   "cell_type": "code",
   "execution_count": 7,
   "metadata": {},
   "outputs": [
    {
     "data": {
      "text/plain": [
       "<BatchDataset shapes: ((?, 4), (?,)), types: (tf.float32, tf.int32)>"
      ]
     },
     "execution_count": 7,
     "metadata": {},
     "output_type": "execute_result"
    }
   ],
   "source": [
    "train_dataset"
   ]
  },
  {
   "cell_type": "code",
   "execution_count": 8,
   "metadata": {},
   "outputs": [],
   "source": [
    "features, label = tfe.Iterator(train_dataset).next()"
   ]
  },
  {
   "cell_type": "code",
   "execution_count": 9,
   "metadata": {},
   "outputs": [
    {
     "data": {
      "text/plain": [
       "<tf.Tensor: id=41, shape=(32, 4), dtype=float32, numpy=\n",
       "array([[5.9, 3. , 5.1, 1.8],\n",
       "       [6.4, 3.1, 5.5, 1.8],\n",
       "       [7.9, 3.8, 6.4, 2. ],\n",
       "       [6.3, 3.3, 6. , 2.5],\n",
       "       [6.7, 3. , 5.2, 2.3],\n",
       "       [5.2, 2.7, 3.9, 1.4],\n",
       "       [7.2, 3. , 5.8, 1.6],\n",
       "       [5.2, 3.5, 1.5, 0.2],\n",
       "       [5.2, 3.4, 1.4, 0.2],\n",
       "       [5.7, 2.9, 4.2, 1.3],\n",
       "       [4.9, 2.5, 4.5, 1.7],\n",
       "       [6.4, 3.2, 5.3, 2.3],\n",
       "       [4.8, 3. , 1.4, 0.1],\n",
       "       [4.4, 3.2, 1.3, 0.2],\n",
       "       [7.7, 2.6, 6.9, 2.3],\n",
       "       [5.4, 3.9, 1.3, 0.4],\n",
       "       [5.1, 3.8, 1.5, 0.3],\n",
       "       [4.8, 3.4, 1.6, 0.2],\n",
       "       [4.4, 2.9, 1.4, 0.2],\n",
       "       [4.6, 3.6, 1. , 0.2],\n",
       "       [5.4, 3.4, 1.5, 0.4],\n",
       "       [5.6, 2.5, 3.9, 1.1],\n",
       "       [7.7, 2.8, 6.7, 2. ],\n",
       "       [6. , 3. , 4.8, 1.8],\n",
       "       [5.5, 2.6, 4.4, 1.2],\n",
       "       [5. , 2. , 3.5, 1. ],\n",
       "       [7.7, 3. , 6.1, 2.3],\n",
       "       [7.2, 3.2, 6. , 1.8],\n",
       "       [6.8, 3.2, 5.9, 2.3],\n",
       "       [5.7, 4.4, 1.5, 0.4],\n",
       "       [6.5, 3. , 5.8, 2.2],\n",
       "       [6.5, 3. , 5.2, 2. ]], dtype=float32)>"
      ]
     },
     "execution_count": 9,
     "metadata": {},
     "output_type": "execute_result"
    }
   ],
   "source": [
    "features"
   ]
  },
  {
   "cell_type": "code",
   "execution_count": 10,
   "metadata": {},
   "outputs": [
    {
     "data": {
      "text/plain": [
       "<tf.Tensor: id=42, shape=(32,), dtype=int32, numpy=\n",
       "array([2, 2, 2, 2, 2, 1, 2, 0, 0, 1, 2, 2, 0, 0, 2, 0, 0, 0, 0, 0, 0, 1,\n",
       "       2, 2, 1, 1, 2, 2, 2, 0, 2, 2], dtype=int32)>"
      ]
     },
     "execution_count": 10,
     "metadata": {},
     "output_type": "execute_result"
    }
   ],
   "source": [
    "label"
   ]
  },
  {
   "cell_type": "markdown",
   "metadata": {},
   "source": [
    "## Model"
   ]
  },
  {
   "cell_type": "markdown",
   "metadata": {},
   "source": [
    "Note that the model is outputting the logits, not the softmax probabilities."
   ]
  },
  {
   "cell_type": "code",
   "execution_count": 11,
   "metadata": {},
   "outputs": [],
   "source": [
    "model = tf.keras.Sequential([\n",
    "  tf.keras.layers.Dense(10, activation=\"relu\", input_shape=(4,)),\n",
    "  tf.keras.layers.Dense(10, activation=\"relu\"),\n",
    "  tf.keras.layers.Dense(3)\n",
    "])"
   ]
  },
  {
   "cell_type": "code",
   "execution_count": 12,
   "metadata": {},
   "outputs": [
    {
     "data": {
      "text/plain": [
       "<tensorflow.python.keras.engine.sequential.Sequential at 0x7f6c8ae894e0>"
      ]
     },
     "execution_count": 12,
     "metadata": {},
     "output_type": "execute_result"
    }
   ],
   "source": [
    "model"
   ]
  },
  {
   "cell_type": "markdown",
   "metadata": {},
   "source": [
    "model behaves like a function:"
   ]
  },
  {
   "cell_type": "code",
   "execution_count": 13,
   "metadata": {},
   "outputs": [
    {
     "data": {
      "text/plain": [
       "<tf.Tensor: id=128, shape=(32, 3), dtype=float32, numpy=\n",
       "array([[ 4.2539949e+00,  1.5243943e-01, -8.5028416e-01],\n",
       "       [ 4.5483789e+00,  2.0291850e-01, -9.4734544e-01],\n",
       "       [ 5.4946308e+00,  1.6526550e-01, -1.0854921e+00],\n",
       "       [ 4.7338872e+00,  2.6916209e-01, -1.0072854e+00],\n",
       "       [ 4.5094638e+00,  1.6086538e-01, -8.8099384e-01],\n",
       "       [ 3.6015520e+00, -2.3551732e-02, -5.9833330e-01],\n",
       "       [ 4.7489953e+00,  2.6443470e-01, -1.0180339e+00],\n",
       "       [ 3.0010951e+00, -8.8622046e-01,  2.4911791e-01],\n",
       "       [ 2.9125016e+00, -8.8413519e-01,  2.7203953e-01],\n",
       "       [ 3.8906255e+00, -3.0888019e-02, -6.4638734e-01],\n",
       "       [ 3.6105783e+00,  1.8799306e-01, -7.6286066e-01],\n",
       "       [ 4.5267081e+00,  1.3125609e-01, -8.6126745e-01],\n",
       "       [ 2.6456301e+00, -7.5464243e-01,  2.1193738e-01],\n",
       "       [ 2.6779816e+00, -8.0588877e-01,  2.1824647e-01],\n",
       "       [ 5.0988317e+00,  6.4706361e-01, -1.3836458e+00],\n",
       "       [ 3.1836188e+00, -1.0498626e+00,  3.4785885e-01],\n",
       "       [ 3.1573865e+00, -9.5789665e-01,  2.5834179e-01],\n",
       "       [ 2.9392209e+00, -8.0936331e-01,  1.7611389e-01],\n",
       "       [ 2.5598955e+00, -6.9900924e-01,  1.6405912e-01],\n",
       "       [ 2.8054750e+00, -1.0105191e+00,  3.6302453e-01],\n",
       "       [ 2.9991164e+00, -8.6334515e-01,  2.4730092e-01],\n",
       "       [ 3.5352652e+00,  8.5968751e-04, -5.8282524e-01],\n",
       "       [ 5.0891328e+00,  5.3047264e-01, -1.2896984e+00],\n",
       "       [ 4.1972122e+00,  7.9824328e-02, -7.7866352e-01],\n",
       "       [ 3.7728353e+00,  1.0944487e-01, -7.4292481e-01],\n",
       "       [ 3.0454643e+00,  6.9200248e-02, -5.4501587e-01],\n",
       "       [ 5.0101213e+00,  3.3685231e-01, -1.1064751e+00],\n",
       "       [ 4.9523096e+00,  2.6812828e-01, -1.0751024e+00],\n",
       "       [ 4.8120689e+00,  2.6127693e-01, -1.0227963e+00],\n",
       "       [ 3.5511620e+00, -1.1541016e+00,  3.5130116e-01],\n",
       "       [ 4.6234422e+00,  3.0502665e-01, -1.0279480e+00],\n",
       "       [ 4.4534364e+00,  1.6272844e-01, -8.8603586e-01]], dtype=float32)>"
      ]
     },
     "execution_count": 13,
     "metadata": {},
     "output_type": "execute_result"
    }
   ],
   "source": [
    "model(features)"
   ]
  },
  {
   "cell_type": "markdown",
   "metadata": {},
   "source": [
    "In eager mode we can access the values of the weights directly:"
   ]
  },
  {
   "cell_type": "code",
   "execution_count": 14,
   "metadata": {},
   "outputs": [
    {
     "name": "stdout",
     "output_type": "stream",
     "text": [
      "Weight shape:  (4, 10)\n",
      "Weight tensor:  <tf.Variable 'dense/kernel:0' shape=(4, 10) dtype=float32, numpy=\n",
      "array([[-0.3669138 , -0.35407218,  0.14949417, -0.48221236, -0.07870758,\n",
      "         0.18085927, -0.6423741 ,  0.37449908,  0.2256375 ,  0.6354954 ],\n",
      "       [ 0.3447078 , -0.51886564,  0.5403429 ,  0.13630885, -0.59894377,\n",
      "        -0.22230014, -0.13240385,  0.33249986,  0.6321626 , -0.54063094],\n",
      "       [-0.09006935,  0.21660113, -0.03805065, -0.45049065, -0.42898136,\n",
      "         0.6000395 , -0.16155943,  0.37692845,  0.04593593, -0.3187553 ],\n",
      "       [-0.4258747 ,  0.5369731 , -0.46732014, -0.20957232,  0.24765903,\n",
      "         0.09375465, -0.38842997,  0.31011492, -0.24771693, -0.50823724]],\n",
      "      dtype=float32)>\n",
      "\n",
      "Weight shape:  (10,)\n",
      "Weight tensor:  <tf.Variable 'dense/bias:0' shape=(10,) dtype=float32, numpy=array([0., 0., 0., 0., 0., 0., 0., 0., 0., 0.], dtype=float32)>\n",
      "\n",
      "Weight shape:  (10, 10)\n",
      "Weight tensor:  <tf.Variable 'dense_1/kernel:0' shape=(10, 10) dtype=float32, numpy=\n",
      "array([[-0.45395872, -0.5289205 ,  0.5272225 ,  0.23861188,  0.02585286,\n",
      "         0.31038052,  0.54091406, -0.23564938, -0.27469966, -0.29780853],\n",
      "       [ 0.1017946 ,  0.21442491,  0.44506168, -0.54155886,  0.18521178,\n",
      "         0.46405303, -0.1465565 , -0.12222287, -0.36383092, -0.0299139 ],\n",
      "       [-0.18254253, -0.18533176,  0.45646024,  0.170928  ,  0.46314633,\n",
      "        -0.4563639 , -0.34779456, -0.02448589,  0.41041702, -0.21907878],\n",
      "       [ 0.29631525,  0.11045486,  0.07587731, -0.5451936 ,  0.10217512,\n",
      "         0.41483742, -0.01895159, -0.17256856, -0.17638522, -0.00379527],\n",
      "       [-0.1839922 ,  0.25193322,  0.04496956,  0.49928677,  0.07489085,\n",
      "        -0.48092172,  0.06516528, -0.18137613, -0.14873704, -0.21691284],\n",
      "       [-0.20260519, -0.29716316,  0.38604015, -0.12673935, -0.19042021,\n",
      "        -0.5180146 ,  0.4282943 ,  0.34192234, -0.43869632, -0.24439153],\n",
      "       [ 0.30674958,  0.2605394 ,  0.23413873, -0.51241636, -0.21020812,\n",
      "         0.22455311,  0.0580191 , -0.28917524,  0.29657722,  0.3547436 ],\n",
      "       [ 0.36056483, -0.27974412,  0.4468916 ,  0.32641375, -0.28880307,\n",
      "        -0.08556193, -0.18242425, -0.00868839,  0.3191278 ,  0.27431458],\n",
      "       [-0.4547574 ,  0.04690313,  0.07982957,  0.16525841, -0.48172456,\n",
      "         0.49670196, -0.2544128 ,  0.17770076, -0.06428197,  0.25020736],\n",
      "       [ 0.4373957 , -0.2606388 , -0.20017117,  0.38431144, -0.33428478,\n",
      "         0.25153154,  0.30756193, -0.49877405, -0.06858376, -0.1161584 ]],\n",
      "      dtype=float32)>\n",
      "\n",
      "Weight shape:  (10,)\n",
      "Weight tensor:  <tf.Variable 'dense_1/bias:0' shape=(10,) dtype=float32, numpy=array([0., 0., 0., 0., 0., 0., 0., 0., 0., 0.], dtype=float32)>\n",
      "\n",
      "Weight shape:  (10, 3)\n",
      "Weight tensor:  <tf.Variable 'dense_2/kernel:0' shape=(10, 3) dtype=float32, numpy=\n",
      "array([[-0.13604903,  0.06430769, -0.3823084 ],\n",
      "       [ 0.13876015, -0.6159197 ,  0.61257875],\n",
      "       [ 0.50066733,  0.62164354, -0.65752006],\n",
      "       [ 0.27954853, -0.6010773 ,  0.5858767 ],\n",
      "       [-0.39862674, -0.37503594,  0.27156204],\n",
      "       [ 0.4388734 , -0.43603274,  0.22293407],\n",
      "       [ 0.0933758 ,  0.31381577, -0.4288455 ],\n",
      "       [ 0.44754243, -0.41208997,  0.18310541],\n",
      "       [ 0.04528683, -0.61200416,  0.30546105],\n",
      "       [ 0.3963611 , -0.44409773,  0.5252764 ]], dtype=float32)>\n",
      "\n",
      "Weight shape:  (3,)\n",
      "Weight tensor:  <tf.Variable 'dense_2/bias:0' shape=(3,) dtype=float32, numpy=array([0., 0., 0.], dtype=float32)>\n",
      "\n"
     ]
    }
   ],
   "source": [
    "for i, v in enumerate(model.variables):\n",
    "    print(\"Weight shape: \", v.shape)\n",
    "    print(\"Weight tensor: \", v)\n",
    "    print()\n"
   ]
  },
  {
   "cell_type": "markdown",
   "metadata": {},
   "source": [
    "## Loss\n",
    "\n",
    "Loss is sparse categorical cross entropy"
   ]
  },
  {
   "cell_type": "code",
   "execution_count": 15,
   "metadata": {},
   "outputs": [],
   "source": [
    "def loss(model, x, y):\n",
    "    y_ = model(x)\n",
    "    return tf.losses.sparse_softmax_cross_entropy(labels=y, logits=y_)"
   ]
  },
  {
   "cell_type": "code",
   "execution_count": 16,
   "metadata": {},
   "outputs": [
    {
     "data": {
      "text/plain": [
       "<tf.Tensor: id=193, shape=(), dtype=float32, numpy=3.4324913>"
      ]
     },
     "execution_count": 16,
     "metadata": {},
     "output_type": "execute_result"
    }
   ],
   "source": [
    "loss(model, features, label)"
   ]
  },
  {
   "cell_type": "markdown",
   "metadata": {},
   "source": [
    "## Gradients\n",
    "\n",
    "In eager mode we can evaluate the gradients"
   ]
  },
  {
   "cell_type": "code",
   "execution_count": 17,
   "metadata": {},
   "outputs": [],
   "source": [
    "def grad(model, inputs, targets):\n",
    "    with tfe.GradientTape() as tape:\n",
    "        loss_value = loss(model, inputs, targets)\n",
    "    return tape.gradient(loss_value, model.variables)"
   ]
  },
  {
   "cell_type": "code",
   "execution_count": 18,
   "metadata": {},
   "outputs": [],
   "source": [
    "grads = grad(model, features, label)"
   ]
  },
  {
   "cell_type": "code",
   "execution_count": 19,
   "metadata": {},
   "outputs": [
    {
     "name": "stdout",
     "output_type": "stream",
     "text": [
      "Gradient shape:  (4, 10)\n",
      "Gradient tensor:  tf.Tensor(\n",
      "[[ 0.          0.          1.3871851   0.          0.          2.072489\n",
      "   0.          1.4562786   0.5741236  -0.6011344 ]\n",
      " [ 0.          0.          0.61810094  0.          0.          0.9153922\n",
      "   0.          0.65473425  0.25976807 -0.22688143]\n",
      " [ 0.          0.          1.1854033   0.          0.          1.821793\n",
      "   0.          1.2037585   0.45993546 -0.52120507]\n",
      " [ 0.          0.          0.42208365  0.          0.          0.6691714\n",
      "   0.          0.41161376  0.1505142  -0.16477932]], shape=(4, 10), dtype=float32)\n",
      "\n",
      "Gradient shape:  (10,)\n",
      "Gradient tensor:  tf.Tensor(\n",
      "[ 0.          0.          0.20794976  0.          0.          0.29311177\n",
      "  0.          0.23278897  0.09728041 -0.08303249], shape=(10,), dtype=float32)\n",
      "\n",
      "Gradient shape:  (10, 10)\n",
      "Gradient tensor:  tf.Tensor(\n",
      "[[ 0.0000000e+00  0.0000000e+00  0.0000000e+00  0.0000000e+00\n",
      "   0.0000000e+00  0.0000000e+00  0.0000000e+00  0.0000000e+00\n",
      "   0.0000000e+00  0.0000000e+00]\n",
      " [ 0.0000000e+00  0.0000000e+00  0.0000000e+00  0.0000000e+00\n",
      "   0.0000000e+00  0.0000000e+00  0.0000000e+00  0.0000000e+00\n",
      "   0.0000000e+00  0.0000000e+00]\n",
      " [ 0.0000000e+00  0.0000000e+00  7.6456732e-01 -3.5353445e-02\n",
      "   0.0000000e+00 -2.6811615e-03  0.0000000e+00  3.4902695e-01\n",
      "  -4.7851831e-02  7.7509880e-02]\n",
      " [ 0.0000000e+00  0.0000000e+00  0.0000000e+00  0.0000000e+00\n",
      "   0.0000000e+00  0.0000000e+00  0.0000000e+00  0.0000000e+00\n",
      "   0.0000000e+00  0.0000000e+00]\n",
      " [ 0.0000000e+00  0.0000000e+00  0.0000000e+00  0.0000000e+00\n",
      "   0.0000000e+00  0.0000000e+00  0.0000000e+00  0.0000000e+00\n",
      "   0.0000000e+00  0.0000000e+00]\n",
      " [ 0.0000000e+00  0.0000000e+00  2.3141568e+00 -2.6466879e-01\n",
      "   0.0000000e+00 -6.9720956e-04  0.0000000e+00  8.9158010e-01\n",
      "  -2.6190168e-01  8.0960192e-02]\n",
      " [ 0.0000000e+00  0.0000000e+00  0.0000000e+00  0.0000000e+00\n",
      "   0.0000000e+00  0.0000000e+00  0.0000000e+00  0.0000000e+00\n",
      "   0.0000000e+00  0.0000000e+00]\n",
      " [ 0.0000000e+00  0.0000000e+00  3.4618332e+00 -3.5976392e-01\n",
      "   0.0000000e+00 -3.6000239e-03  0.0000000e+00  1.3715581e+00\n",
      "  -3.6493641e-01  1.5635343e-01]\n",
      " [ 0.0000000e+00  0.0000000e+00  1.7109402e+00 -1.3982897e-01\n",
      "   0.0000000e+00 -3.5479991e-03  0.0000000e+00  7.1756995e-01\n",
      "  -1.5216407e-01  1.1428327e-01]\n",
      " [ 0.0000000e+00  0.0000000e+00  7.5896280e-03  1.9185780e-02\n",
      "   0.0000000e+00 -5.9660658e-04  0.0000000e+00  2.3890609e-02\n",
      "   1.4031192e-02  1.9808056e-02]], shape=(10, 10), dtype=float32)\n",
      "\n",
      "Gradient shape:  (10,)\n",
      "Gradient tensor:  tf.Tensor(\n",
      "[ 0.          0.          0.53196424 -0.02345698  0.         -0.00107187\n",
      "  0.          0.24403596 -0.03244678  0.05504103], shape=(10,), dtype=float32)\n",
      "\n",
      "Gradient shape:  (10, 3)\n",
      "Gradient tensor:  tf.Tensor(\n",
      "[[ 0.0000000e+00  0.0000000e+00  0.0000000e+00]\n",
      " [ 0.0000000e+00  0.0000000e+00  0.0000000e+00]\n",
      " [ 3.1489739e+00 -5.6491733e-01 -2.5840571e+00]\n",
      " [ 1.3757079e+00 -2.6601931e-01 -1.1096886e+00]\n",
      " [ 0.0000000e+00  0.0000000e+00  0.0000000e+00]\n",
      " [-5.6113760e-05  1.1337667e-05  4.4776083e-05]\n",
      " [ 0.0000000e+00  0.0000000e+00  0.0000000e+00]\n",
      " [ 1.1018463e+00 -1.8248796e-01 -9.1935873e-01]\n",
      " [ 3.4644142e-01 -8.4743239e-02 -2.6169819e-01]\n",
      " [ 6.9484246e-01 -1.2584691e-01 -5.6899554e-01]], shape=(10, 3), dtype=float32)\n",
      "\n",
      "Gradient shape:  (3,)\n",
      "Gradient tensor:  tf.Tensor([ 0.6118926  -0.13815446 -0.4737382 ], shape=(3,), dtype=float32)\n",
      "\n"
     ]
    }
   ],
   "source": [
    "for i, g in enumerate(grads):\n",
    "    print(\"Gradient shape: \", g.shape)\n",
    "    print(\"Gradient tensor: \", g)\n",
    "    print()\n"
   ]
  },
  {
   "cell_type": "markdown",
   "metadata": {},
   "source": [
    "## Optimizer\n",
    "\n",
    "Let's use simple gradient descent"
   ]
  },
  {
   "cell_type": "code",
   "execution_count": 20,
   "metadata": {},
   "outputs": [],
   "source": [
    "optimizer = tf.train.GradientDescentOptimizer(learning_rate=0.01)"
   ]
  },
  {
   "cell_type": "markdown",
   "metadata": {},
   "source": [
    "## Training Loop"
   ]
  },
  {
   "cell_type": "code",
   "execution_count": 21,
   "metadata": {},
   "outputs": [
    {
     "name": "stdout",
     "output_type": "stream",
     "text": [
      "Epoch 000: Loss: 2.222, Accuracy: 35.000%\n",
      "Epoch 050: Loss: 0.523, Accuracy: 94.167%\n",
      "Epoch 100: Loss: 0.217, Accuracy: 96.667%\n",
      "Epoch 150: Loss: 0.138, Accuracy: 96.667%\n",
      "Epoch 200: Loss: 0.106, Accuracy: 98.333%\n"
     ]
    }
   ],
   "source": [
    "train_loss_results = []\n",
    "train_accuracy_results = []\n",
    "\n",
    "num_epochs = 201\n",
    "\n",
    "# Loop over epochs\n",
    "for epoch in range(num_epochs):\n",
    "    \n",
    "    # accumulators for mean loss and accuracy\n",
    "    epoch_loss_avg = tfe.metrics.Mean()\n",
    "    epoch_accuracy = tfe.metrics.Accuracy()\n",
    "\n",
    "    # loop on dataset, for each batch:\n",
    "    for x, y in tfe.Iterator(train_dataset):\n",
    "        # Calculate gradients\n",
    "        grads = grad(model, x, y)\n",
    "        \n",
    "        # Apply gradients to the weights\n",
    "        optimizer.apply_gradients(zip(grads, model.variables),\n",
    "                                  global_step=tf.train.get_or_create_global_step())\n",
    "\n",
    "        # accumulate loss\n",
    "        epoch_loss_avg(loss(model, x, y))\n",
    "        \n",
    "        # calculate predictions\n",
    "        y_pred = tf.argmax(model(x), axis=1, output_type=tf.int32)\n",
    "        # acccumulate accuracy\n",
    "        epoch_accuracy(y_pred, y)\n",
    "\n",
    "    # end epoch\n",
    "    train_loss_results.append(epoch_loss_avg.result())\n",
    "    train_accuracy_results.append(epoch_accuracy.result())\n",
    "\n",
    "    if epoch % 50 == 0:\n",
    "        print(\"Epoch {:03d}: Loss: {:.3f}, Accuracy: {:.3%}\".format(epoch,\n",
    "                                                                    epoch_loss_avg.result(),\n",
    "                                                                    epoch_accuracy.result()))"
   ]
  },
  {
   "cell_type": "markdown",
   "metadata": {},
   "source": [
    "## Plot Metrics"
   ]
  },
  {
   "cell_type": "code",
   "execution_count": 22,
   "metadata": {},
   "outputs": [
    {
     "data": {
      "image/png": "[encoded data removed]",
      "text/plain": [
       "<Figure size 864x576 with 2 Axes>"
      ]
     },
     "metadata": {
      "needs_background": "light"
     },
     "output_type": "display_data"
    }
   ],
   "source": [
    "fig, axes = plt.subplots(2, sharex=True, figsize=(12, 8))\n",
    "fig.suptitle('Training Metrics')\n",
    "\n",
    "axes[0].set_ylabel(\"Loss\", fontsize=14)\n",
    "axes[0].plot(train_loss_results)\n",
    "\n",
    "axes[1].set_ylabel(\"Accuracy\", fontsize=14)\n",
    "axes[1].set_xlabel(\"Epoch\", fontsize=14)\n",
    "axes[1].plot(train_accuracy_results)\n",
    "\n",
    "plt.show()"
   ]
  },
  {
   "cell_type": "markdown",
   "metadata": {},
   "source": [
    "## Test"
   ]
  },
  {
   "cell_type": "code",
   "execution_count": 23,
   "metadata": {},
   "outputs": [],
   "source": [
    "test_fp = '../data/iris_test.csv'"
   ]
  },
  {
   "cell_type": "code",
   "execution_count": 24,
   "metadata": {},
   "outputs": [],
   "source": [
    "test_dataset = tf.data.TextLineDataset(test_fp)\n",
    "test_dataset = test_dataset.skip(1)             # skip header row\n",
    "test_dataset = test_dataset.map(parse_csv)      # parse each row with the funcition created earlier\n",
    "test_dataset = test_dataset.shuffle(1000)       # randomize\n",
    "test_dataset = test_dataset.batch(32)           # use the same batch size as the training set"
   ]
  },
  {
   "cell_type": "code",
   "execution_count": 25,
   "metadata": {},
   "outputs": [
    {
     "name": "stdout",
     "output_type": "stream",
     "text": [
      "Test set accuracy: 96.667%\n"
     ]
    }
   ],
   "source": [
    "test_accuracy = tfe.metrics.Accuracy()\n",
    "\n",
    "for (x, y) in tfe.Iterator(test_dataset):\n",
    "    prediction = tf.argmax(model(x), axis=1, output_type=tf.int32)\n",
    "    test_accuracy(prediction, y)\n",
    "\n",
    "print(\"Test set accuracy: {:.3%}\".format(test_accuracy.result()))"
   ]
  },
  {
   "cell_type": "code",
   "execution_count": 26,
   "metadata": {},
   "outputs": [
    {
     "name": "stdout",
     "output_type": "stream",
     "text": [
      "Example 0 prediction: Iris setosa\n",
      "Example 1 prediction: Iris versicolor\n",
      "Example 2 prediction: Iris virginica\n"
     ]
    }
   ],
   "source": [
    "class_ids = [\"Iris setosa\", \"Iris versicolor\", \"Iris virginica\"]\n",
    "\n",
    "predict_dataset = tf.convert_to_tensor([\n",
    "    [5.1, 3.3, 1.7, 0.5,],\n",
    "    [5.9, 3.0, 4.2, 1.5,],\n",
    "    [6.9, 3.1, 5.4, 2.1]\n",
    "])\n",
    "\n",
    "predictions = model(predict_dataset)\n",
    "\n",
    "for i, logits in enumerate(predictions):\n",
    "    class_idx = tf.argmax(logits).numpy()\n",
    "    name = class_ids[class_idx]\n",
    "    print(\"Example {} prediction: {}\".format(i, name))"
   ]
  },
  {
   "cell_type": "code",
   "execution_count": null,
   "metadata": {},
   "outputs": [],
   "source": []
  }
 ],
 "metadata": {
  "kernelspec": {
   "display_name": "Python 3",
   "language": "python",
   "name": "python3"
  },
  "language_info": {
   "codemirror_mode": {
    "name": "ipython",
    "version": 3
   },
   "file_extension": ".py",
   "mimetype": "text/x-python",
   "name": "python",
   "nbconvert_exporter": "python",
   "pygments_lexer": "ipython3",
   "version": "3.6.6"
  }
 },
 "nbformat": 4,
 "nbformat_minor": 2
}

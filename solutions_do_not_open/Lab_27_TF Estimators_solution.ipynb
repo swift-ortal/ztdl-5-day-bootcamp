{
 "cells": [
  {
   "cell_type": "markdown",
   "metadata": {},
   "source": [
    "# Tensorflow Estimators"
   ]
  },
  {
   "cell_type": "code",
   "execution_count": 1,
   "metadata": {},
   "outputs": [],
   "source": [
    "import tensorflow as tf\n",
    "import pandas as pd"
   ]
  },
  {
   "cell_type": "code",
   "execution_count": 2,
   "metadata": {},
   "outputs": [],
   "source": [
    "df = pd.read_csv('../data/iris.csv')"
   ]
  },
  {
   "cell_type": "code",
   "execution_count": 3,
   "metadata": {},
   "outputs": [
    {
     "data": {
      "text/html": [
       "<div>\n",
       "<style scoped>\n",
       "    .dataframe tbody tr th:only-of-type {\n",
       "        vertical-align: middle;\n",
       "    }\n",
       "\n",
       "    .dataframe tbody tr th {\n",
       "        vertical-align: top;\n",
       "    }\n",
       "\n",
       "    .dataframe thead th {\n",
       "        text-align: right;\n",
       "    }\n",
       "</style>\n",
       "<table border=\"1\" class=\"dataframe\">\n",
       "  <thead>\n",
       "    <tr style=\"text-align: right;\">\n",
       "      <th></th>\n",
       "      <th>sepal_length</th>\n",
       "      <th>sepal_width</th>\n",
       "      <th>petal_length</th>\n",
       "      <th>petal_width</th>\n",
       "      <th>species</th>\n",
       "    </tr>\n",
       "  </thead>\n",
       "  <tbody>\n",
       "    <tr>\n",
       "      <th>0</th>\n",
       "      <td>5.1</td>\n",
       "      <td>3.5</td>\n",
       "      <td>1.4</td>\n",
       "      <td>0.2</td>\n",
       "      <td>setosa</td>\n",
       "    </tr>\n",
       "    <tr>\n",
       "      <th>1</th>\n",
       "      <td>4.9</td>\n",
       "      <td>3.0</td>\n",
       "      <td>1.4</td>\n",
       "      <td>0.2</td>\n",
       "      <td>setosa</td>\n",
       "    </tr>\n",
       "    <tr>\n",
       "      <th>2</th>\n",
       "      <td>4.7</td>\n",
       "      <td>3.2</td>\n",
       "      <td>1.3</td>\n",
       "      <td>0.2</td>\n",
       "      <td>setosa</td>\n",
       "    </tr>\n",
       "    <tr>\n",
       "      <th>3</th>\n",
       "      <td>4.6</td>\n",
       "      <td>3.1</td>\n",
       "      <td>1.5</td>\n",
       "      <td>0.2</td>\n",
       "      <td>setosa</td>\n",
       "    </tr>\n",
       "    <tr>\n",
       "      <th>4</th>\n",
       "      <td>5.0</td>\n",
       "      <td>3.6</td>\n",
       "      <td>1.4</td>\n",
       "      <td>0.2</td>\n",
       "      <td>setosa</td>\n",
       "    </tr>\n",
       "  </tbody>\n",
       "</table>\n",
       "</div>"
      ],
      "text/plain": [
       "   sepal_length  sepal_width  petal_length  petal_width species\n",
       "0           5.1          3.5           1.4          0.2  setosa\n",
       "1           4.9          3.0           1.4          0.2  setosa\n",
       "2           4.7          3.2           1.3          0.2  setosa\n",
       "3           4.6          3.1           1.5          0.2  setosa\n",
       "4           5.0          3.6           1.4          0.2  setosa"
      ]
     },
     "execution_count": 3,
     "metadata": {},
     "output_type": "execute_result"
    }
   ],
   "source": [
    "df.head()"
   ]
  },
  {
   "cell_type": "code",
   "execution_count": 4,
   "metadata": {},
   "outputs": [],
   "source": [
    "X = df.drop('species', axis='columns')\n",
    "y = df['species']\n",
    "\n",
    "column_names = df.columns[:-1]"
   ]
  },
  {
   "cell_type": "code",
   "execution_count": 5,
   "metadata": {},
   "outputs": [],
   "source": [
    "from sklearn.model_selection import train_test_split"
   ]
  },
  {
   "cell_type": "code",
   "execution_count": 6,
   "metadata": {},
   "outputs": [],
   "source": [
    "X_train, X_test, y_train, y_test = train_test_split(X, y, test_size=0.3, random_state=0)"
   ]
  },
  {
   "cell_type": "code",
   "execution_count": 7,
   "metadata": {},
   "outputs": [
    {
     "data": {
      "text/plain": [
       "60     versicolor\n",
       "116     virginica\n",
       "144     virginica\n",
       "119     virginica\n",
       "108     virginica\n",
       "Name: species, dtype: object"
      ]
     },
     "execution_count": 7,
     "metadata": {},
     "output_type": "execute_result"
    }
   ],
   "source": [
    "y_train.head()"
   ]
  },
  {
   "cell_type": "code",
   "execution_count": 8,
   "metadata": {},
   "outputs": [],
   "source": [
    "labels = ['setosa', 'versicolor', 'virginica']"
   ]
  },
  {
   "cell_type": "code",
   "execution_count": 9,
   "metadata": {},
   "outputs": [],
   "source": [
    "feature_columns = [\n",
    "    tf.feature_column.numeric_column(key=key)\n",
    "    for key in X_train.columns\n",
    "]"
   ]
  },
  {
   "cell_type": "code",
   "execution_count": 10,
   "metadata": {},
   "outputs": [
    {
     "data": {
      "text/plain": [
       "[_NumericColumn(key='sepal_length', shape=(1,), default_value=None, dtype=tf.float32, normalizer_fn=None),\n",
       " _NumericColumn(key='sepal_width', shape=(1,), default_value=None, dtype=tf.float32, normalizer_fn=None),\n",
       " _NumericColumn(key='petal_length', shape=(1,), default_value=None, dtype=tf.float32, normalizer_fn=None),\n",
       " _NumericColumn(key='petal_width', shape=(1,), default_value=None, dtype=tf.float32, normalizer_fn=None)]"
      ]
     },
     "execution_count": 10,
     "metadata": {},
     "output_type": "execute_result"
    }
   ],
   "source": [
    "feature_columns"
   ]
  },
  {
   "cell_type": "markdown",
   "metadata": {},
   "source": [
    "## Canned Estimators"
   ]
  },
  {
   "cell_type": "code",
   "execution_count": 11,
   "metadata": {},
   "outputs": [],
   "source": [
    "rm -rf ./models/iris/"
   ]
  },
  {
   "cell_type": "code",
   "execution_count": 12,
   "metadata": {},
   "outputs": [
    {
     "name": "stdout",
     "output_type": "stream",
     "text": [
      "INFO:tensorflow:Using default config.\n",
      "INFO:tensorflow:Using config: {'_model_dir': './models/iris/DNN/', '_tf_random_seed': None, '_save_summary_steps': 100, '_save_checkpoints_steps': None, '_save_checkpoints_secs': 600, '_session_config': None, '_keep_checkpoint_max': 5, '_keep_checkpoint_every_n_hours': 10000, '_log_step_count_steps': 100, '_train_distribute': None, '_device_fn': None, '_service': None, '_cluster_spec': <tensorflow.python.training.server_lib.ClusterSpec object at 0x7f92c7046320>, '_task_type': 'worker', '_task_id': 0, '_global_id_in_cluster': 0, '_master': '', '_evaluation_master': '', '_is_chief': True, '_num_ps_replicas': 0, '_num_worker_replicas': 1}\n"
     ]
    }
   ],
   "source": [
    "model = tf.estimator.DNNClassifier(\n",
    "    hidden_units=[10, 10], \n",
    "    feature_columns=feature_columns,\n",
    "    model_dir='./models/iris/DNN/',\n",
    "    n_classes=3,\n",
    "    label_vocabulary=labels,\n",
    "    optimizer='Adam')"
   ]
  },
  {
   "cell_type": "code",
   "execution_count": 13,
   "metadata": {},
   "outputs": [],
   "source": [
    "batch_size=32\n",
    "train_steps=3000"
   ]
  },
  {
   "cell_type": "markdown",
   "metadata": {},
   "source": [
    "### Input function"
   ]
  },
  {
   "cell_type": "code",
   "execution_count": 14,
   "metadata": {},
   "outputs": [],
   "source": [
    "def input_fn(features, labels, batch_size, shuffle=True, repeat=None):\n",
    "    feature_dict = dict(features)\n",
    "\n",
    "    if labels is None:\n",
    "        inputs = feature_dict\n",
    "    else:\n",
    "        inputs = (feature_dict, labels)\n",
    "        \n",
    "    dataset = tf.data.Dataset.from_tensor_slices(inputs)\n",
    "    \n",
    "    if shuffle:\n",
    "        dataset = dataset.shuffle(1000)\n",
    "    \n",
    "    dataset = dataset.repeat(repeat)\n",
    "\n",
    "    return dataset.batch(batch_size)"
   ]
  },
  {
   "cell_type": "code",
   "execution_count": 15,
   "metadata": {},
   "outputs": [],
   "source": [
    "def train_input_fn():\n",
    "    return input_fn(X_train, y_train, batch_size)"
   ]
  },
  {
   "cell_type": "markdown",
   "metadata": {},
   "source": [
    "### Model Training"
   ]
  },
  {
   "cell_type": "code",
   "execution_count": 16,
   "metadata": {},
   "outputs": [
    {
     "name": "stdout",
     "output_type": "stream",
     "text": [
      "INFO:tensorflow:Calling model_fn.\n",
      "INFO:tensorflow:Done calling model_fn.\n",
      "INFO:tensorflow:Create CheckpointSaverHook.\n",
      "INFO:tensorflow:Graph was finalized.\n",
      "INFO:tensorflow:Running local_init_op.\n",
      "INFO:tensorflow:Done running local_init_op.\n",
      "INFO:tensorflow:Saving checkpoints for 0 into ./models/iris/DNN/model.ckpt.\n",
      "INFO:tensorflow:loss = 37.27954, step = 0\n",
      "INFO:tensorflow:global_step/sec: 256.354\n",
      "INFO:tensorflow:loss = 1.8347392, step = 100 (0.392 sec)\n",
      "INFO:tensorflow:global_step/sec: 257.756\n",
      "INFO:tensorflow:loss = 1.8607783, step = 200 (0.388 sec)\n",
      "INFO:tensorflow:global_step/sec: 281.685\n",
      "INFO:tensorflow:loss = 1.1390328, step = 300 (0.355 sec)\n",
      "INFO:tensorflow:global_step/sec: 315.224\n",
      "INFO:tensorflow:loss = 0.16796286, step = 400 (0.317 sec)\n",
      "INFO:tensorflow:global_step/sec: 307.916\n",
      "INFO:tensorflow:loss = 0.16669615, step = 500 (0.325 sec)\n",
      "INFO:tensorflow:global_step/sec: 288.356\n",
      "INFO:tensorflow:loss = 0.43382812, step = 600 (0.347 sec)\n",
      "INFO:tensorflow:global_step/sec: 302.036\n",
      "INFO:tensorflow:loss = 0.023206301, step = 700 (0.331 sec)\n",
      "INFO:tensorflow:global_step/sec: 314.445\n",
      "INFO:tensorflow:loss = 0.6413346, step = 800 (0.318 sec)\n",
      "INFO:tensorflow:global_step/sec: 306.066\n",
      "INFO:tensorflow:loss = 0.86808914, step = 900 (0.327 sec)\n",
      "INFO:tensorflow:global_step/sec: 301.386\n",
      "INFO:tensorflow:loss = 2.4337823, step = 1000 (0.332 sec)\n",
      "INFO:tensorflow:global_step/sec: 310.825\n",
      "INFO:tensorflow:loss = 0.11218049, step = 1100 (0.322 sec)\n",
      "INFO:tensorflow:global_step/sec: 302.26\n",
      "INFO:tensorflow:loss = 1.4008648, step = 1200 (0.331 sec)\n",
      "INFO:tensorflow:global_step/sec: 327.083\n",
      "INFO:tensorflow:loss = 0.2333661, step = 1300 (0.306 sec)\n",
      "INFO:tensorflow:global_step/sec: 311.336\n",
      "INFO:tensorflow:loss = 2.0187469, step = 1400 (0.321 sec)\n",
      "INFO:tensorflow:global_step/sec: 299.784\n",
      "INFO:tensorflow:loss = 0.36233568, step = 1500 (0.334 sec)\n",
      "INFO:tensorflow:global_step/sec: 301.737\n",
      "INFO:tensorflow:loss = 0.22069365, step = 1600 (0.331 sec)\n",
      "INFO:tensorflow:global_step/sec: 288.891\n",
      "INFO:tensorflow:loss = 0.68753564, step = 1700 (0.346 sec)\n",
      "INFO:tensorflow:global_step/sec: 315.987\n",
      "INFO:tensorflow:loss = 0.2987986, step = 1800 (0.316 sec)\n",
      "INFO:tensorflow:global_step/sec: 304.968\n",
      "INFO:tensorflow:loss = 1.0228459, step = 1900 (0.328 sec)\n",
      "INFO:tensorflow:global_step/sec: 301.235\n",
      "INFO:tensorflow:loss = 0.57924825, step = 2000 (0.331 sec)\n",
      "INFO:tensorflow:global_step/sec: 277.854\n",
      "INFO:tensorflow:loss = 2.85543, step = 2100 (0.361 sec)\n",
      "INFO:tensorflow:global_step/sec: 256.528\n",
      "INFO:tensorflow:loss = 0.6163406, step = 2200 (0.389 sec)\n",
      "INFO:tensorflow:global_step/sec: 259.292\n",
      "INFO:tensorflow:loss = 0.5116588, step = 2300 (0.386 sec)\n",
      "INFO:tensorflow:global_step/sec: 281.52\n",
      "INFO:tensorflow:loss = 1.596484, step = 2400 (0.356 sec)\n",
      "INFO:tensorflow:global_step/sec: 270.765\n",
      "INFO:tensorflow:loss = 0.8287419, step = 2500 (0.369 sec)\n",
      "INFO:tensorflow:global_step/sec: 292.089\n",
      "INFO:tensorflow:loss = 0.2160866, step = 2600 (0.342 sec)\n",
      "INFO:tensorflow:global_step/sec: 279.144\n",
      "INFO:tensorflow:loss = 0.0067217303, step = 2700 (0.358 sec)\n",
      "INFO:tensorflow:global_step/sec: 272.542\n",
      "INFO:tensorflow:loss = 0.73539484, step = 2800 (0.366 sec)\n",
      "INFO:tensorflow:global_step/sec: 295.104\n",
      "INFO:tensorflow:loss = 1.6720593, step = 2900 (0.340 sec)\n",
      "INFO:tensorflow:Saving checkpoints for 3000 into ./models/iris/DNN/model.ckpt.\n",
      "INFO:tensorflow:Loss for final step: 1.3345019.\n"
     ]
    },
    {
     "data": {
      "text/plain": [
       "<tensorflow.python.estimator.canned.dnn.DNNClassifier at 0x7f92c314bb38>"
      ]
     },
     "execution_count": 16,
     "metadata": {},
     "output_type": "execute_result"
    }
   ],
   "source": [
    "model.train(\n",
    "    input_fn=train_input_fn,\n",
    "    steps=3000)"
   ]
  },
  {
   "cell_type": "markdown",
   "metadata": {},
   "source": [
    "### Evaluate model on train and test data"
   ]
  },
  {
   "cell_type": "code",
   "execution_count": 17,
   "metadata": {},
   "outputs": [
    {
     "name": "stdout",
     "output_type": "stream",
     "text": [
      "INFO:tensorflow:Calling model_fn.\n",
      "INFO:tensorflow:Done calling model_fn.\n",
      "INFO:tensorflow:Starting evaluation at 2018-09-21-17:12:24\n",
      "INFO:tensorflow:Graph was finalized.\n",
      "INFO:tensorflow:Restoring parameters from ./models/iris/DNN/model.ckpt-3000\n",
      "INFO:tensorflow:Running local_init_op.\n",
      "INFO:tensorflow:Done running local_init_op.\n",
      "INFO:tensorflow:Finished evaluation at 2018-09-21-17:12:24\n",
      "INFO:tensorflow:Saving dict for global step 3000: accuracy = 0.9809524, average_loss = 0.029021518, global_step = 3000, loss = 0.76181483\n",
      "INFO:tensorflow:Saving 'checkpoint_path' summary for global step 3000: ./models/iris/DNN/model.ckpt-3000\n",
      "INFO:tensorflow:Calling model_fn.\n",
      "INFO:tensorflow:Done calling model_fn.\n",
      "INFO:tensorflow:Starting evaluation at 2018-09-21-17:12:25\n",
      "INFO:tensorflow:Graph was finalized.\n",
      "INFO:tensorflow:Restoring parameters from ./models/iris/DNN/model.ckpt-3000\n",
      "INFO:tensorflow:Running local_init_op.\n",
      "INFO:tensorflow:Done running local_init_op.\n",
      "INFO:tensorflow:Finished evaluation at 2018-09-21-17:12:25\n",
      "INFO:tensorflow:Saving dict for global step 3000: accuracy = 0.9777778, average_loss = 0.11544406, global_step = 3000, loss = 2.5974913\n",
      "INFO:tensorflow:Saving 'checkpoint_path' summary for global step 3000: ./models/iris/DNN/model.ckpt-3000\n"
     ]
    }
   ],
   "source": [
    "train_eval_result = model.evaluate(\n",
    "    input_fn=lambda:input_fn(X_train, y_train,\n",
    "                             batch_size,\n",
    "                             shuffle=False,\n",
    "                             repeat=1))\n",
    "\n",
    "test_eval_result = model.evaluate(\n",
    "    input_fn=lambda:input_fn(X_test, y_test,\n",
    "                             batch_size,\n",
    "                             shuffle=False,\n",
    "                             repeat=1))"
   ]
  },
  {
   "cell_type": "code",
   "execution_count": 18,
   "metadata": {},
   "outputs": [
    {
     "data": {
      "text/plain": [
       "{'accuracy': 0.9809524,\n",
       " 'average_loss': 0.029021518,\n",
       " 'loss': 0.76181483,\n",
       " 'global_step': 3000}"
      ]
     },
     "execution_count": 18,
     "metadata": {},
     "output_type": "execute_result"
    }
   ],
   "source": [
    "train_eval_result"
   ]
  },
  {
   "cell_type": "code",
   "execution_count": 19,
   "metadata": {},
   "outputs": [
    {
     "data": {
      "text/plain": [
       "{'accuracy': 0.9777778,\n",
       " 'average_loss': 0.11544406,\n",
       " 'loss': 2.5974913,\n",
       " 'global_step': 3000}"
      ]
     },
     "execution_count": 19,
     "metadata": {},
     "output_type": "execute_result"
    }
   ],
   "source": [
    "test_eval_result"
   ]
  },
  {
   "cell_type": "markdown",
   "metadata": {},
   "source": [
    "### Predict on new data"
   ]
  },
  {
   "cell_type": "code",
   "execution_count": 20,
   "metadata": {},
   "outputs": [],
   "source": [
    "predict_x = {\n",
    "    'sepal_length': [5.1, 5.9, 6.9],\n",
    "    'sepal_width': [3.3, 3.0, 3.1],\n",
    "    'petal_length': [1.7, 4.2, 5.4],\n",
    "    'petal_width': [0.5, 1.5, 2.1],\n",
    "}"
   ]
  },
  {
   "cell_type": "code",
   "execution_count": 21,
   "metadata": {},
   "outputs": [],
   "source": [
    "expected = ['setosa', 'versicolor', 'virginica']"
   ]
  },
  {
   "cell_type": "code",
   "execution_count": 22,
   "metadata": {},
   "outputs": [],
   "source": [
    "predictions = model.predict(\n",
    "    input_fn=lambda:input_fn(predict_x,\n",
    "                             labels=None,\n",
    "                             batch_size=batch_size,\n",
    "                             shuffle=False,\n",
    "                             repeat=1))"
   ]
  },
  {
   "cell_type": "code",
   "execution_count": 23,
   "metadata": {},
   "outputs": [
    {
     "data": {
      "text/plain": [
       "<generator object Estimator.predict at 0x7f929d669200>"
      ]
     },
     "execution_count": 23,
     "metadata": {},
     "output_type": "execute_result"
    }
   ],
   "source": [
    "predictions"
   ]
  },
  {
   "cell_type": "code",
   "execution_count": 24,
   "metadata": {},
   "outputs": [
    {
     "name": "stdout",
     "output_type": "stream",
     "text": [
      "INFO:tensorflow:Calling model_fn.\n",
      "INFO:tensorflow:Done calling model_fn.\n",
      "INFO:tensorflow:Graph was finalized.\n",
      "INFO:tensorflow:Restoring parameters from ./models/iris/DNN/model.ckpt-3000\n",
      "INFO:tensorflow:Running local_init_op.\n",
      "INFO:tensorflow:Done running local_init_op.\n",
      "\n",
      "Prediction is \"setosa\", prob: 100.0%, expected \"setosa\"\n",
      "\n",
      "Prediction is \"versicolor\", prob: 99.9%, expected \"versicolor\"\n",
      "\n",
      "Prediction is \"virginica\", prob: 99.7%, expected \"virginica\"\n"
     ]
    }
   ],
   "source": [
    "template = ('\\nPrediction is \"{}\", prob: {:.1f}%, expected \"{}\"')\n",
    "\n",
    "for pred_dict, expec in zip(predictions, expected):\n",
    "    \n",
    "    class_id = pred_dict['class_ids'][0]\n",
    "    probability = pred_dict['probabilities'][class_id]\n",
    "    pred_label = labels[class_id]\n",
    "\n",
    "    print(template.format(pred_label, 100 * probability, expec))"
   ]
  },
  {
   "cell_type": "code",
   "execution_count": 25,
   "metadata": {},
   "outputs": [
    {
     "data": {
      "text/plain": [
       "{'logits': array([-14.253295 ,  -2.5915875,   3.1705759], dtype=float32),\n",
       " 'probabilities': array([2.7011327e-08, 3.1344465e-03, 9.9686545e-01], dtype=float32),\n",
       " 'class_ids': array([2]),\n",
       " 'classes': array([b'virginica'], dtype=object)}"
      ]
     },
     "execution_count": 25,
     "metadata": {},
     "output_type": "execute_result"
    }
   ],
   "source": [
    "pred_dict"
   ]
  },
  {
   "cell_type": "markdown",
   "metadata": {},
   "source": [
    "## Exercise 1\n",
    "\n",
    "The `tf.estimator` module offers 2 additional canned classifiers:\n",
    "\n",
    "- `tf.estimator.BaselineClassifier`\n",
    "- `tf.estimator.LinearClassifier`\n",
    "\n",
    "What do they do?\n",
    "\n",
    "Try substituting them in the model definition and re-run the trainin, evaluation and prediction steps.\n",
    "Is the performance better or worse?\n",
    "\n",
    "Note: you can set the logging level of tensorflow with `tf.logging.set_verbosity`"
   ]
  },
  {
   "cell_type": "code",
   "execution_count": 26,
   "metadata": {
    "tags": [
     "solution",
     "empty"
    ]
   },
   "outputs": [],
   "source": [
    "tf.logging.set_verbosity(tf.logging.WARN)"
   ]
  },
  {
   "cell_type": "markdown",
   "metadata": {
    "tags": [
     "solution"
    ]
   },
   "source": [
    "#### Baseline Classifier"
   ]
  },
  {
   "cell_type": "code",
   "execution_count": 27,
   "metadata": {
    "tags": [
     "solution"
    ]
   },
   "outputs": [],
   "source": [
    "model = tf.estimator.BaselineClassifier(\n",
    "    model_dir='./models/iris/Baseline/',\n",
    "    n_classes=3,\n",
    "    label_vocabulary=labels)"
   ]
  },
  {
   "cell_type": "code",
   "execution_count": 28,
   "metadata": {
    "tags": [
     "solution"
    ]
   },
   "outputs": [
    {
     "data": {
      "text/plain": [
       "<tensorflow.python.estimator.canned.baseline.BaselineClassifier at 0x7f936289bc18>"
      ]
     },
     "execution_count": 28,
     "metadata": {},
     "output_type": "execute_result"
    }
   ],
   "source": [
    "model.train(\n",
    "    input_fn=train_input_fn,\n",
    "    steps=3000)"
   ]
  },
  {
   "cell_type": "code",
   "execution_count": 29,
   "metadata": {
    "tags": [
     "solution"
    ]
   },
   "outputs": [],
   "source": [
    "train_eval_result = model.evaluate(\n",
    "    input_fn=lambda:input_fn(X_train, y_train,\n",
    "                             batch_size,\n",
    "                             shuffle=False,\n",
    "                             repeat=1))\n",
    "\n",
    "test_eval_result = model.evaluate(\n",
    "    input_fn=lambda:input_fn(X_test, y_test,\n",
    "                             batch_size,\n",
    "                             shuffle=False,\n",
    "                             repeat=1))"
   ]
  },
  {
   "cell_type": "code",
   "execution_count": 30,
   "metadata": {
    "tags": [
     "solution"
    ]
   },
   "outputs": [
    {
     "data": {
      "text/plain": [
       "{'accuracy': 0.37142858,\n",
       " 'average_loss': 1.0951546,\n",
       " 'loss': 28.747808,\n",
       " 'global_step': 3000}"
      ]
     },
     "execution_count": 30,
     "metadata": {},
     "output_type": "execute_result"
    }
   ],
   "source": [
    "train_eval_result"
   ]
  },
  {
   "cell_type": "code",
   "execution_count": 31,
   "metadata": {
    "tags": [
     "solution"
    ]
   },
   "outputs": [
    {
     "data": {
      "text/plain": [
       "{'accuracy': 0.24444444,\n",
       " 'average_loss': 1.117924,\n",
       " 'loss': 25.15329,\n",
       " 'global_step': 3000}"
      ]
     },
     "execution_count": 31,
     "metadata": {},
     "output_type": "execute_result"
    }
   ],
   "source": [
    "test_eval_result"
   ]
  },
  {
   "cell_type": "markdown",
   "metadata": {
    "tags": [
     "solution"
    ]
   },
   "source": [
    "#### Linear Classifier"
   ]
  },
  {
   "cell_type": "code",
   "execution_count": 32,
   "metadata": {
    "tags": [
     "solution"
    ]
   },
   "outputs": [],
   "source": [
    "model = tf.estimator.LinearClassifier(\n",
    "    feature_columns=feature_columns,\n",
    "    model_dir='./models/iris/Linear/',\n",
    "    n_classes=3,\n",
    "    label_vocabulary=labels)"
   ]
  },
  {
   "cell_type": "code",
   "execution_count": 33,
   "metadata": {
    "tags": [
     "solution"
    ]
   },
   "outputs": [
    {
     "data": {
      "text/plain": [
       "<tensorflow.python.estimator.canned.linear.LinearClassifier at 0x7f929d7c6ba8>"
      ]
     },
     "execution_count": 33,
     "metadata": {},
     "output_type": "execute_result"
    }
   ],
   "source": [
    "model.train(\n",
    "    input_fn=train_input_fn,\n",
    "    steps=3000)"
   ]
  },
  {
   "cell_type": "code",
   "execution_count": 34,
   "metadata": {
    "tags": [
     "solution"
    ]
   },
   "outputs": [],
   "source": [
    "train_eval_result = model.evaluate(\n",
    "    input_fn=lambda:input_fn(X_train, y_train,\n",
    "                             batch_size,\n",
    "                             shuffle=False,\n",
    "                             repeat=1))\n",
    "\n",
    "test_eval_result = model.evaluate(\n",
    "    input_fn=lambda:input_fn(X_test, y_test,\n",
    "                             batch_size,\n",
    "                             shuffle=False,\n",
    "                             repeat=1))"
   ]
  },
  {
   "cell_type": "code",
   "execution_count": 35,
   "metadata": {
    "tags": [
     "solution"
    ]
   },
   "outputs": [
    {
     "data": {
      "text/plain": [
       "{'accuracy': 0.9809524,\n",
       " 'average_loss': 0.08735905,\n",
       " 'loss': 2.293175,\n",
       " 'global_step': 3000}"
      ]
     },
     "execution_count": 35,
     "metadata": {},
     "output_type": "execute_result"
    }
   ],
   "source": [
    "train_eval_result"
   ]
  },
  {
   "cell_type": "code",
   "execution_count": 36,
   "metadata": {
    "tags": [
     "solution"
    ]
   },
   "outputs": [
    {
     "data": {
      "text/plain": [
       "{'accuracy': 0.9777778,\n",
       " 'average_loss': 0.11286557,\n",
       " 'loss': 2.5394752,\n",
       " 'global_step': 3000}"
      ]
     },
     "execution_count": 36,
     "metadata": {},
     "output_type": "execute_result"
    }
   ],
   "source": [
    "test_eval_result"
   ]
  },
  {
   "cell_type": "markdown",
   "metadata": {},
   "source": [
    "## Exercise 2\n",
    "\n",
    "Visualize the training results with tensorboard:\n",
    "\n",
    "- in a terminal, from the notebook folder, run tensorboard with `tensorboard --logdir=models`\n",
    "- open the browser at [http://localhost:6006](http://localhost:6006)\n",
    "\n"
   ]
  },
  {
   "cell_type": "code",
   "execution_count": null,
   "metadata": {
    "tags": [
     "solution",
     "empty"
    ]
   },
   "outputs": [],
   "source": []
  }
 ],
 "metadata": {
  "kernelspec": {
   "display_name": "Python 3",
   "language": "python",
   "name": "python3"
  },
  "language_info": {
   "codemirror_mode": {
    "name": "ipython",
    "version": 3
   },
   "file_extension": ".py",
   "mimetype": "text/x-python",
   "name": "python",
   "nbconvert_exporter": "python",
   "pygments_lexer": "ipython3",
   "version": "3.6.6"
  }
 },
 "nbformat": 4,
 "nbformat_minor": 2
}

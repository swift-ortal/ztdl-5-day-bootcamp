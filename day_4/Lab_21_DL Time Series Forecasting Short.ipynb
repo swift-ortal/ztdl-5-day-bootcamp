{
 "cells": [
  {
   "cell_type": "markdown",
   "metadata": {},
   "source": [
    "# Keras Intro: Time Series Forecasting"
   ]
  },
  {
   "cell_type": "code",
   "execution_count": 1,
   "metadata": {},
   "outputs": [],
   "source": [
    "import pandas as pd\n",
    "import numpy as np\n",
    "%matplotlib inline\n",
    "import matplotlib.pyplot as plt"
   ]
  },
  {
   "cell_type": "markdown",
   "metadata": {},
   "source": [
    "## Time series forecasting"
   ]
  },
  {
   "cell_type": "code",
   "execution_count": 2,
   "metadata": {},
   "outputs": [
    {
     "data": {
      "text/html": [
       "<div>\n",
       "<style scoped>\n",
       "    .dataframe tbody tr th:only-of-type {\n",
       "        vertical-align: middle;\n",
       "    }\n",
       "\n",
       "    .dataframe tbody tr th {\n",
       "        vertical-align: top;\n",
       "    }\n",
       "\n",
       "    .dataframe thead th {\n",
       "        text-align: right;\n",
       "    }\n",
       "</style>\n",
       "<table border=\"1\" class=\"dataframe\">\n",
       "  <thead>\n",
       "    <tr style=\"text-align: right;\">\n",
       "      <th></th>\n",
       "      <th>Date</th>\n",
       "      <th>Hour</th>\n",
       "      <th>Total Ontario</th>\n",
       "      <th>Northwest</th>\n",
       "      <th>Northeast</th>\n",
       "      <th>Ottawa</th>\n",
       "      <th>East</th>\n",
       "      <th>Toronto</th>\n",
       "      <th>Essa</th>\n",
       "      <th>Bruce</th>\n",
       "      <th>Southwest</th>\n",
       "      <th>Niagara</th>\n",
       "      <th>West</th>\n",
       "      <th>Tot Zones</th>\n",
       "      <th>diff</th>\n",
       "    </tr>\n",
       "  </thead>\n",
       "  <tbody>\n",
       "    <tr>\n",
       "      <th>0</th>\n",
       "      <td>01-May-03</td>\n",
       "      <td>1</td>\n",
       "      <td>13702</td>\n",
       "      <td>809</td>\n",
       "      <td>1284</td>\n",
       "      <td>965</td>\n",
       "      <td>765</td>\n",
       "      <td>4422</td>\n",
       "      <td>622</td>\n",
       "      <td>41</td>\n",
       "      <td>2729</td>\n",
       "      <td>617</td>\n",
       "      <td>1611</td>\n",
       "      <td>13865</td>\n",
       "      <td>163</td>\n",
       "    </tr>\n",
       "    <tr>\n",
       "      <th>1</th>\n",
       "      <td>01-May-03</td>\n",
       "      <td>2</td>\n",
       "      <td>13578</td>\n",
       "      <td>825</td>\n",
       "      <td>1283</td>\n",
       "      <td>923</td>\n",
       "      <td>752</td>\n",
       "      <td>4340</td>\n",
       "      <td>602</td>\n",
       "      <td>43</td>\n",
       "      <td>2731</td>\n",
       "      <td>615</td>\n",
       "      <td>1564</td>\n",
       "      <td>13678</td>\n",
       "      <td>100</td>\n",
       "    </tr>\n",
       "    <tr>\n",
       "      <th>2</th>\n",
       "      <td>01-May-03</td>\n",
       "      <td>3</td>\n",
       "      <td>13411</td>\n",
       "      <td>834</td>\n",
       "      <td>1277</td>\n",
       "      <td>910</td>\n",
       "      <td>751</td>\n",
       "      <td>4281</td>\n",
       "      <td>591</td>\n",
       "      <td>45</td>\n",
       "      <td>2696</td>\n",
       "      <td>596</td>\n",
       "      <td>1553</td>\n",
       "      <td>13534</td>\n",
       "      <td>123</td>\n",
       "    </tr>\n",
       "    <tr>\n",
       "      <th>3</th>\n",
       "      <td>01-May-03</td>\n",
       "      <td>4</td>\n",
       "      <td>13501</td>\n",
       "      <td>835</td>\n",
       "      <td>1277</td>\n",
       "      <td>922</td>\n",
       "      <td>758</td>\n",
       "      <td>4281</td>\n",
       "      <td>599</td>\n",
       "      <td>41</td>\n",
       "      <td>2724</td>\n",
       "      <td>609</td>\n",
       "      <td>1544</td>\n",
       "      <td>13590</td>\n",
       "      <td>89</td>\n",
       "    </tr>\n",
       "    <tr>\n",
       "      <th>4</th>\n",
       "      <td>01-May-03</td>\n",
       "      <td>5</td>\n",
       "      <td>14010</td>\n",
       "      <td>847</td>\n",
       "      <td>1268</td>\n",
       "      <td>993</td>\n",
       "      <td>804</td>\n",
       "      <td>4469</td>\n",
       "      <td>643</td>\n",
       "      <td>51</td>\n",
       "      <td>2842</td>\n",
       "      <td>579</td>\n",
       "      <td>1592</td>\n",
       "      <td>14088</td>\n",
       "      <td>78</td>\n",
       "    </tr>\n",
       "  </tbody>\n",
       "</table>\n",
       "</div>"
      ],
      "text/plain": [
       "        Date  Hour  Total Ontario  Northwest  Northeast  Ottawa  East  \\\n",
       "0  01-May-03     1          13702        809       1284     965   765   \n",
       "1  01-May-03     2          13578        825       1283     923   752   \n",
       "2  01-May-03     3          13411        834       1277     910   751   \n",
       "3  01-May-03     4          13501        835       1277     922   758   \n",
       "4  01-May-03     5          14010        847       1268     993   804   \n",
       "\n",
       "   Toronto  Essa  Bruce  Southwest  Niagara  West  Tot Zones diff  \n",
       "0     4422   622     41       2729      617  1611      13865  163  \n",
       "1     4340   602     43       2731      615  1564      13678  100  \n",
       "2     4281   591     45       2696      596  1553      13534  123  \n",
       "3     4281   599     41       2724      609  1544      13590   89  \n",
       "4     4469   643     51       2842      579  1592      14088   78  "
      ]
     },
     "execution_count": 2,
     "metadata": {},
     "output_type": "execute_result"
    }
   ],
   "source": [
    "df = pd.read_csv('../data/ZonalDemands_2003-2016.csv',\n",
    "                 engine='python')\n",
    "df.head()"
   ]
  },
  {
   "cell_type": "code",
   "execution_count": 3,
   "metadata": {},
   "outputs": [],
   "source": [
    "df['Datetime'] = pd.to_datetime(df['Date']) + df['Hour'].apply(lambda h: pd.Timedelta(\"%d hours\" % h))"
   ]
  },
  {
   "cell_type": "code",
   "execution_count": 4,
   "metadata": {},
   "outputs": [],
   "source": [
    "df = df.set_index('Datetime')"
   ]
  },
  {
   "cell_type": "code",
   "execution_count": 5,
   "metadata": {},
   "outputs": [],
   "source": [
    "from pandas.tseries.offsets import MonthEnd"
   ]
  },
  {
   "cell_type": "code",
   "execution_count": 6,
   "metadata": {},
   "outputs": [
    {
     "data": {
      "text/plain": [
       "<matplotlib.axes._subplots.AxesSubplot at 0x7fb1b9584d30>"
      ]
     },
     "execution_count": 6,
     "metadata": {},
     "output_type": "execute_result"
    },
    {
     "data": {
      "image/png": "[encoded data removed]",
      "text/plain": [
       "<Figure size 1224x360 with 1 Axes>"
      ]
     },
     "metadata": {
      "needs_background": "light"
     },
     "output_type": "display_data"
    }
   ],
   "source": [
    "df['Total Ontario'].plot(figsize=(17,5))"
   ]
  },
  {
   "cell_type": "code",
   "execution_count": 7,
   "metadata": {},
   "outputs": [
    {
     "data": {
      "text/plain": [
       "<matplotlib.axes._subplots.AxesSubplot at 0x7fb1bc4181d0>"
      ]
     },
     "execution_count": 7,
     "metadata": {},
     "output_type": "execute_result"
    },
    {
     "data": {
      "image/png": "[encoded data removed]",
      "text/plain": [
       "<Figure size 1224x360 with 1 Axes>"
      ]
     },
     "metadata": {
      "needs_background": "light"
     },
     "output_type": "display_data"
    }
   ],
   "source": [
    "df['2015-01-01':'2015-12-31']['Total Ontario'].plot(style='p-', figsize=(17,5))"
   ]
  },
  {
   "cell_type": "code",
   "execution_count": 8,
   "metadata": {},
   "outputs": [],
   "source": [
    "split_date = pd.Timestamp('01-01-2014')"
   ]
  },
  {
   "cell_type": "code",
   "execution_count": 9,
   "metadata": {},
   "outputs": [],
   "source": [
    "train = df.loc[:split_date, ['Total Ontario']]\n",
    "test = df.loc[split_date:, ['Total Ontario']]"
   ]
  },
  {
   "cell_type": "code",
   "execution_count": 10,
   "metadata": {},
   "outputs": [
    {
     "data": {
      "text/plain": [
       "((93552, 1), (26305, 1))"
      ]
     },
     "execution_count": 10,
     "metadata": {},
     "output_type": "execute_result"
    }
   ],
   "source": [
    "train.shape, test.shape"
   ]
  },
  {
   "cell_type": "code",
   "execution_count": 11,
   "metadata": {},
   "outputs": [
    {
     "data": {
      "text/plain": [
       "<matplotlib.legend.Legend at 0x7fb1bc3b79e8>"
      ]
     },
     "execution_count": 11,
     "metadata": {},
     "output_type": "execute_result"
    },
    {
     "data": {
      "image/png": "[encoded data removed]",
      "text/plain": [
       "<Figure size 1224x360 with 1 Axes>"
      ]
     },
     "metadata": {
      "needs_background": "light"
     },
     "output_type": "display_data"
    }
   ],
   "source": [
    "ax = train.plot(figsize=(17,5))\n",
    "test.plot(ax=ax)\n",
    "plt.legend(['train', 'test'])"
   ]
  },
  {
   "cell_type": "code",
   "execution_count": 12,
   "metadata": {},
   "outputs": [],
   "source": [
    "from sklearn.preprocessing import MinMaxScaler\n",
    "\n",
    "sc = MinMaxScaler()\n",
    "\n",
    "train_sc = sc.fit_transform(train)\n",
    "test_sc = sc.transform(test)"
   ]
  },
  {
   "cell_type": "code",
   "execution_count": 13,
   "metadata": {},
   "outputs": [
    {
     "data": {
      "text/plain": [
       "array([[0.4621791 ],\n",
       "       [0.45716596],\n",
       "       [0.45041439],\n",
       "       [0.45405296]])"
      ]
     },
     "execution_count": 13,
     "metadata": {},
     "output_type": "execute_result"
    }
   ],
   "source": [
    "train_sc[:4]"
   ]
  },
  {
   "cell_type": "code",
   "execution_count": 14,
   "metadata": {},
   "outputs": [],
   "source": [
    "X_train = train_sc[:-1]\n",
    "y_train = train_sc[1:]\n",
    "\n",
    "X_test = test_sc[:-1]\n",
    "y_test = test_sc[1:]"
   ]
  },
  {
   "cell_type": "code",
   "execution_count": 15,
   "metadata": {},
   "outputs": [
    {
     "data": {
      "text/plain": [
       "((93551, 1), (93551, 1), (26304, 1), (26304, 1))"
      ]
     },
     "execution_count": 15,
     "metadata": {},
     "output_type": "execute_result"
    }
   ],
   "source": [
    "X_train.shape, y_train.shape, X_test.shape, y_test.shape"
   ]
  },
  {
   "cell_type": "markdown",
   "metadata": {},
   "source": [
    "### Fully connected predictor"
   ]
  },
  {
   "cell_type": "code",
   "execution_count": 16,
   "metadata": {},
   "outputs": [
    {
     "name": "stderr",
     "output_type": "stream",
     "text": [
      "Using TensorFlow backend.\n"
     ]
    }
   ],
   "source": [
    "from keras.models import Sequential\n",
    "from keras.layers import Dense\n",
    "import keras.backend as K\n",
    "from keras.callbacks import EarlyStopping"
   ]
  },
  {
   "cell_type": "code",
   "execution_count": 17,
   "metadata": {},
   "outputs": [
    {
     "name": "stdout",
     "output_type": "stream",
     "text": [
      "_________________________________________________________________\n",
      "Layer (type)                 Output Shape              Param #   \n",
      "=================================================================\n",
      "dense_1 (Dense)              (None, 12)                24        \n",
      "_________________________________________________________________\n",
      "dense_2 (Dense)              (None, 1)                 13        \n",
      "=================================================================\n",
      "Total params: 37\n",
      "Trainable params: 37\n",
      "Non-trainable params: 0\n",
      "_________________________________________________________________\n"
     ]
    }
   ],
   "source": [
    "K.clear_session()\n",
    "\n",
    "model = Sequential()\n",
    "model.add(Dense(12, input_dim=1, activation='relu'))\n",
    "model.add(Dense(1))\n",
    "model.compile(loss='mean_squared_error', optimizer='adam')\n",
    "model.summary()"
   ]
  },
  {
   "cell_type": "code",
   "execution_count": 18,
   "metadata": {},
   "outputs": [],
   "source": [
    "early_stop = EarlyStopping(monitor='loss', patience=1, verbose=1)"
   ]
  },
  {
   "cell_type": "code",
   "execution_count": 19,
   "metadata": {},
   "outputs": [
    {
     "name": "stdout",
     "output_type": "stream",
     "text": [
      "Epoch 1/200\n",
      "93551/93551 [==============================] - 2s 17us/step - loss: 0.0287\n",
      "Epoch 2/200\n",
      "93551/93551 [==============================] - 1s 7us/step - loss: 0.0020\n",
      "Epoch 3/200\n",
      "93551/93551 [==============================] - 1s 7us/step - loss: 0.0018\n",
      "Epoch 4/200\n",
      "93551/93551 [==============================] - 1s 6us/step - loss: 0.0016\n",
      "Epoch 5/200\n",
      "93551/93551 [==============================] - 1s 6us/step - loss: 0.0013\n",
      "Epoch 6/200\n",
      "93551/93551 [==============================] - 1s 6us/step - loss: 0.0012\n",
      "Epoch 7/200\n",
      "93551/93551 [==============================] - 1s 6us/step - loss: 0.0010\n",
      "Epoch 8/200\n",
      "93551/93551 [==============================] - 1s 6us/step - loss: 8.8865e-04\n",
      "Epoch 9/200\n",
      "93551/93551 [==============================] - 1s 6us/step - loss: 8.1267e-04\n",
      "Epoch 10/200\n",
      "93551/93551 [==============================] - 1s 7us/step - loss: 7.6560e-04\n",
      "Epoch 11/200\n",
      "93551/93551 [==============================] - 1s 7us/step - loss: 7.3932e-04\n",
      "Epoch 12/200\n",
      "93551/93551 [==============================] - 1s 6us/step - loss: 7.2593e-04\n",
      "Epoch 13/200\n",
      "93551/93551 [==============================] - 1s 7us/step - loss: 7.2004e-04\n",
      "Epoch 14/200\n",
      "93551/93551 [==============================] - 1s 7us/step - loss: 7.1769e-04\n",
      "Epoch 15/200\n",
      "93551/93551 [==============================] - 1s 7us/step - loss: 7.1675e-04\n",
      "Epoch 16/200\n",
      "93551/93551 [==============================] - 1s 6us/step - loss: 7.1662e-04\n",
      "Epoch 17/200\n",
      "93551/93551 [==============================] - 1s 6us/step - loss: 7.1649e-04\n",
      "Epoch 18/200\n",
      "93551/93551 [==============================] - 1s 7us/step - loss: 7.1648e-04\n",
      "Epoch 19/200\n",
      "93551/93551 [==============================] - 1s 6us/step - loss: 7.1637e-04\n",
      "Epoch 20/200\n",
      "93551/93551 [==============================] - 1s 6us/step - loss: 7.1705e-04\n",
      "Epoch 00020: early stopping\n"
     ]
    },
    {
     "data": {
      "text/plain": [
       "<keras.callbacks.History at 0x7fb1b6247f28>"
      ]
     },
     "execution_count": 19,
     "metadata": {},
     "output_type": "execute_result"
    }
   ],
   "source": [
    "model.fit(X_train, y_train, epochs=200,\n",
    "          batch_size=500, verbose=1,\n",
    "          callbacks=[early_stop])"
   ]
  },
  {
   "cell_type": "code",
   "execution_count": 20,
   "metadata": {},
   "outputs": [],
   "source": [
    "y_pred = model.predict(X_test)"
   ]
  },
  {
   "cell_type": "code",
   "execution_count": 21,
   "metadata": {},
   "outputs": [
    {
     "data": {
      "text/plain": [
       "(1200, 1300)"
      ]
     },
     "execution_count": 21,
     "metadata": {},
     "output_type": "execute_result"
    },
    {
     "data": {
      "image/png": "[encoded data removed]",
      "text/plain": [
       "<Figure size 1080x360 with 1 Axes>"
      ]
     },
     "metadata": {
      "needs_background": "light"
     },
     "output_type": "display_data"
    }
   ],
   "source": [
    "plt.figure(figsize=(15,5))\n",
    "plt.plot(y_test)\n",
    "plt.plot(y_pred)\n",
    "plt.xlim(1200,1300)"
   ]
  },
  {
   "cell_type": "code",
   "execution_count": 22,
   "metadata": {},
   "outputs": [],
   "source": [
    "from sklearn.metrics import mean_squared_error"
   ]
  },
  {
   "cell_type": "code",
   "execution_count": 23,
   "metadata": {},
   "outputs": [
    {
     "data": {
      "text/plain": [
       "0.0006110527181598986"
      ]
     },
     "execution_count": 23,
     "metadata": {},
     "output_type": "execute_result"
    }
   ],
   "source": [
    "mean_squared_error(y_test, y_pred)"
   ]
  },
  {
   "cell_type": "markdown",
   "metadata": {},
   "source": [
    "## Lagged features"
   ]
  },
  {
   "cell_type": "code",
   "execution_count": 24,
   "metadata": {},
   "outputs": [
    {
     "data": {
      "text/plain": [
       "(93552, 1)"
      ]
     },
     "execution_count": 24,
     "metadata": {},
     "output_type": "execute_result"
    }
   ],
   "source": [
    "train_sc.shape"
   ]
  },
  {
   "cell_type": "code",
   "execution_count": 25,
   "metadata": {},
   "outputs": [
    {
     "data": {
      "text/html": [
       "<div>\n",
       "<style scoped>\n",
       "    .dataframe tbody tr th:only-of-type {\n",
       "        vertical-align: middle;\n",
       "    }\n",
       "\n",
       "    .dataframe tbody tr th {\n",
       "        vertical-align: top;\n",
       "    }\n",
       "\n",
       "    .dataframe thead th {\n",
       "        text-align: right;\n",
       "    }\n",
       "</style>\n",
       "<table border=\"1\" class=\"dataframe\">\n",
       "  <thead>\n",
       "    <tr style=\"text-align: right;\">\n",
       "      <th></th>\n",
       "      <th>Scaled</th>\n",
       "    </tr>\n",
       "    <tr>\n",
       "      <th>Datetime</th>\n",
       "      <th></th>\n",
       "    </tr>\n",
       "  </thead>\n",
       "  <tbody>\n",
       "    <tr>\n",
       "      <th>2003-05-01 01:00:00</th>\n",
       "      <td>0.462179</td>\n",
       "    </tr>\n",
       "    <tr>\n",
       "      <th>2003-05-01 02:00:00</th>\n",
       "      <td>0.457166</td>\n",
       "    </tr>\n",
       "    <tr>\n",
       "      <th>2003-05-01 03:00:00</th>\n",
       "      <td>0.450414</td>\n",
       "    </tr>\n",
       "    <tr>\n",
       "      <th>2003-05-01 04:00:00</th>\n",
       "      <td>0.454053</td>\n",
       "    </tr>\n",
       "    <tr>\n",
       "      <th>2003-05-01 05:00:00</th>\n",
       "      <td>0.474631</td>\n",
       "    </tr>\n",
       "  </tbody>\n",
       "</table>\n",
       "</div>"
      ],
      "text/plain": [
       "                       Scaled\n",
       "Datetime                     \n",
       "2003-05-01 01:00:00  0.462179\n",
       "2003-05-01 02:00:00  0.457166\n",
       "2003-05-01 03:00:00  0.450414\n",
       "2003-05-01 04:00:00  0.454053\n",
       "2003-05-01 05:00:00  0.474631"
      ]
     },
     "execution_count": 25,
     "metadata": {},
     "output_type": "execute_result"
    }
   ],
   "source": [
    "train_sc_df = pd.DataFrame(train_sc, columns=['Scaled'], index=train.index)\n",
    "test_sc_df = pd.DataFrame(test_sc, columns=['Scaled'], index=test.index)\n",
    "train_sc_df.head()"
   ]
  },
  {
   "cell_type": "code",
   "execution_count": 26,
   "metadata": {},
   "outputs": [],
   "source": [
    "window_size = 24"
   ]
  },
  {
   "cell_type": "code",
   "execution_count": 27,
   "metadata": {},
   "outputs": [],
   "source": [
    "for s in range(1, window_size + 1):\n",
    "    train_sc_df['shift_{}'.format(s)] = train_sc_df['Scaled'].shift(s)\n",
    "    test_sc_df['shift_{}'.format(s)] = test_sc_df['Scaled'].shift(s)"
   ]
  },
  {
   "cell_type": "code",
   "execution_count": 28,
   "metadata": {
    "scrolled": true
   },
   "outputs": [
    {
     "data": {
      "text/html": [
       "<div>\n",
       "<style scoped>\n",
       "    .dataframe tbody tr th:only-of-type {\n",
       "        vertical-align: middle;\n",
       "    }\n",
       "\n",
       "    .dataframe tbody tr th {\n",
       "        vertical-align: top;\n",
       "    }\n",
       "\n",
       "    .dataframe thead th {\n",
       "        text-align: right;\n",
       "    }\n",
       "</style>\n",
       "<table border=\"1\" class=\"dataframe\">\n",
       "  <thead>\n",
       "    <tr style=\"text-align: right;\">\n",
       "      <th></th>\n",
       "      <th>Scaled</th>\n",
       "      <th>shift_1</th>\n",
       "      <th>shift_2</th>\n",
       "      <th>shift_3</th>\n",
       "      <th>shift_4</th>\n",
       "      <th>shift_5</th>\n",
       "      <th>shift_6</th>\n",
       "      <th>shift_7</th>\n",
       "      <th>shift_8</th>\n",
       "      <th>shift_9</th>\n",
       "      <th>...</th>\n",
       "      <th>shift_15</th>\n",
       "      <th>shift_16</th>\n",
       "      <th>shift_17</th>\n",
       "      <th>shift_18</th>\n",
       "      <th>shift_19</th>\n",
       "      <th>shift_20</th>\n",
       "      <th>shift_21</th>\n",
       "      <th>shift_22</th>\n",
       "      <th>shift_23</th>\n",
       "      <th>shift_24</th>\n",
       "    </tr>\n",
       "    <tr>\n",
       "      <th>Datetime</th>\n",
       "      <th></th>\n",
       "      <th></th>\n",
       "      <th></th>\n",
       "      <th></th>\n",
       "      <th></th>\n",
       "      <th></th>\n",
       "      <th></th>\n",
       "      <th></th>\n",
       "      <th></th>\n",
       "      <th></th>\n",
       "      <th></th>\n",
       "      <th></th>\n",
       "      <th></th>\n",
       "      <th></th>\n",
       "      <th></th>\n",
       "      <th></th>\n",
       "      <th></th>\n",
       "      <th></th>\n",
       "      <th></th>\n",
       "      <th></th>\n",
       "      <th></th>\n",
       "    </tr>\n",
       "  </thead>\n",
       "  <tbody>\n",
       "    <tr>\n",
       "      <th>2003-05-01 01:00:00</th>\n",
       "      <td>0.462179</td>\n",
       "      <td>NaN</td>\n",
       "      <td>NaN</td>\n",
       "      <td>NaN</td>\n",
       "      <td>NaN</td>\n",
       "      <td>NaN</td>\n",
       "      <td>NaN</td>\n",
       "      <td>NaN</td>\n",
       "      <td>NaN</td>\n",
       "      <td>NaN</td>\n",
       "      <td>...</td>\n",
       "      <td>NaN</td>\n",
       "      <td>NaN</td>\n",
       "      <td>NaN</td>\n",
       "      <td>NaN</td>\n",
       "      <td>NaN</td>\n",
       "      <td>NaN</td>\n",
       "      <td>NaN</td>\n",
       "      <td>NaN</td>\n",
       "      <td>NaN</td>\n",
       "      <td>NaN</td>\n",
       "    </tr>\n",
       "    <tr>\n",
       "      <th>2003-05-01 02:00:00</th>\n",
       "      <td>0.457166</td>\n",
       "      <td>0.462179</td>\n",
       "      <td>NaN</td>\n",
       "      <td>NaN</td>\n",
       "      <td>NaN</td>\n",
       "      <td>NaN</td>\n",
       "      <td>NaN</td>\n",
       "      <td>NaN</td>\n",
       "      <td>NaN</td>\n",
       "      <td>NaN</td>\n",
       "      <td>...</td>\n",
       "      <td>NaN</td>\n",
       "      <td>NaN</td>\n",
       "      <td>NaN</td>\n",
       "      <td>NaN</td>\n",
       "      <td>NaN</td>\n",
       "      <td>NaN</td>\n",
       "      <td>NaN</td>\n",
       "      <td>NaN</td>\n",
       "      <td>NaN</td>\n",
       "      <td>NaN</td>\n",
       "    </tr>\n",
       "    <tr>\n",
       "      <th>2003-05-01 03:00:00</th>\n",
       "      <td>0.450414</td>\n",
       "      <td>0.457166</td>\n",
       "      <td>0.462179</td>\n",
       "      <td>NaN</td>\n",
       "      <td>NaN</td>\n",
       "      <td>NaN</td>\n",
       "      <td>NaN</td>\n",
       "      <td>NaN</td>\n",
       "      <td>NaN</td>\n",
       "      <td>NaN</td>\n",
       "      <td>...</td>\n",
       "      <td>NaN</td>\n",
       "      <td>NaN</td>\n",
       "      <td>NaN</td>\n",
       "      <td>NaN</td>\n",
       "      <td>NaN</td>\n",
       "      <td>NaN</td>\n",
       "      <td>NaN</td>\n",
       "      <td>NaN</td>\n",
       "      <td>NaN</td>\n",
       "      <td>NaN</td>\n",
       "    </tr>\n",
       "    <tr>\n",
       "      <th>2003-05-01 04:00:00</th>\n",
       "      <td>0.454053</td>\n",
       "      <td>0.450414</td>\n",
       "      <td>0.457166</td>\n",
       "      <td>0.462179</td>\n",
       "      <td>NaN</td>\n",
       "      <td>NaN</td>\n",
       "      <td>NaN</td>\n",
       "      <td>NaN</td>\n",
       "      <td>NaN</td>\n",
       "      <td>NaN</td>\n",
       "      <td>...</td>\n",
       "      <td>NaN</td>\n",
       "      <td>NaN</td>\n",
       "      <td>NaN</td>\n",
       "      <td>NaN</td>\n",
       "      <td>NaN</td>\n",
       "      <td>NaN</td>\n",
       "      <td>NaN</td>\n",
       "      <td>NaN</td>\n",
       "      <td>NaN</td>\n",
       "      <td>NaN</td>\n",
       "    </tr>\n",
       "    <tr>\n",
       "      <th>2003-05-01 05:00:00</th>\n",
       "      <td>0.474631</td>\n",
       "      <td>0.454053</td>\n",
       "      <td>0.450414</td>\n",
       "      <td>0.457166</td>\n",
       "      <td>0.462179</td>\n",
       "      <td>NaN</td>\n",
       "      <td>NaN</td>\n",
       "      <td>NaN</td>\n",
       "      <td>NaN</td>\n",
       "      <td>NaN</td>\n",
       "      <td>...</td>\n",
       "      <td>NaN</td>\n",
       "      <td>NaN</td>\n",
       "      <td>NaN</td>\n",
       "      <td>NaN</td>\n",
       "      <td>NaN</td>\n",
       "      <td>NaN</td>\n",
       "      <td>NaN</td>\n",
       "      <td>NaN</td>\n",
       "      <td>NaN</td>\n",
       "      <td>NaN</td>\n",
       "    </tr>\n",
       "    <tr>\n",
       "      <th>2003-05-01 06:00:00</th>\n",
       "      <td>0.519224</td>\n",
       "      <td>0.474631</td>\n",
       "      <td>0.454053</td>\n",
       "      <td>0.450414</td>\n",
       "      <td>0.457166</td>\n",
       "      <td>0.462179</td>\n",
       "      <td>NaN</td>\n",
       "      <td>NaN</td>\n",
       "      <td>NaN</td>\n",
       "      <td>NaN</td>\n",
       "      <td>...</td>\n",
       "      <td>NaN</td>\n",
       "      <td>NaN</td>\n",
       "      <td>NaN</td>\n",
       "      <td>NaN</td>\n",
       "      <td>NaN</td>\n",
       "      <td>NaN</td>\n",
       "      <td>NaN</td>\n",
       "      <td>NaN</td>\n",
       "      <td>NaN</td>\n",
       "      <td>NaN</td>\n",
       "    </tr>\n",
       "    <tr>\n",
       "      <th>2003-05-01 07:00:00</th>\n",
       "      <td>0.585890</td>\n",
       "      <td>0.519224</td>\n",
       "      <td>0.474631</td>\n",
       "      <td>0.454053</td>\n",
       "      <td>0.450414</td>\n",
       "      <td>0.457166</td>\n",
       "      <td>0.462179</td>\n",
       "      <td>NaN</td>\n",
       "      <td>NaN</td>\n",
       "      <td>NaN</td>\n",
       "      <td>...</td>\n",
       "      <td>NaN</td>\n",
       "      <td>NaN</td>\n",
       "      <td>NaN</td>\n",
       "      <td>NaN</td>\n",
       "      <td>NaN</td>\n",
       "      <td>NaN</td>\n",
       "      <td>NaN</td>\n",
       "      <td>NaN</td>\n",
       "      <td>NaN</td>\n",
       "      <td>NaN</td>\n",
       "    </tr>\n",
       "    <tr>\n",
       "      <th>2003-05-01 08:00:00</th>\n",
       "      <td>0.626562</td>\n",
       "      <td>0.585890</td>\n",
       "      <td>0.519224</td>\n",
       "      <td>0.474631</td>\n",
       "      <td>0.454053</td>\n",
       "      <td>0.450414</td>\n",
       "      <td>0.457166</td>\n",
       "      <td>0.462179</td>\n",
       "      <td>NaN</td>\n",
       "      <td>NaN</td>\n",
       "      <td>...</td>\n",
       "      <td>NaN</td>\n",
       "      <td>NaN</td>\n",
       "      <td>NaN</td>\n",
       "      <td>NaN</td>\n",
       "      <td>NaN</td>\n",
       "      <td>NaN</td>\n",
       "      <td>NaN</td>\n",
       "      <td>NaN</td>\n",
       "      <td>NaN</td>\n",
       "      <td>NaN</td>\n",
       "    </tr>\n",
       "    <tr>\n",
       "      <th>2003-05-01 09:00:00</th>\n",
       "      <td>0.637437</td>\n",
       "      <td>0.626562</td>\n",
       "      <td>0.585890</td>\n",
       "      <td>0.519224</td>\n",
       "      <td>0.474631</td>\n",
       "      <td>0.454053</td>\n",
       "      <td>0.450414</td>\n",
       "      <td>0.457166</td>\n",
       "      <td>0.462179</td>\n",
       "      <td>NaN</td>\n",
       "      <td>...</td>\n",
       "      <td>NaN</td>\n",
       "      <td>NaN</td>\n",
       "      <td>NaN</td>\n",
       "      <td>NaN</td>\n",
       "      <td>NaN</td>\n",
       "      <td>NaN</td>\n",
       "      <td>NaN</td>\n",
       "      <td>NaN</td>\n",
       "      <td>NaN</td>\n",
       "      <td>NaN</td>\n",
       "    </tr>\n",
       "    <tr>\n",
       "      <th>2003-05-01 10:00:00</th>\n",
       "      <td>0.643663</td>\n",
       "      <td>0.637437</td>\n",
       "      <td>0.626562</td>\n",
       "      <td>0.585890</td>\n",
       "      <td>0.519224</td>\n",
       "      <td>0.474631</td>\n",
       "      <td>0.454053</td>\n",
       "      <td>0.450414</td>\n",
       "      <td>0.457166</td>\n",
       "      <td>0.462179</td>\n",
       "      <td>...</td>\n",
       "      <td>NaN</td>\n",
       "      <td>NaN</td>\n",
       "      <td>NaN</td>\n",
       "      <td>NaN</td>\n",
       "      <td>NaN</td>\n",
       "      <td>NaN</td>\n",
       "      <td>NaN</td>\n",
       "      <td>NaN</td>\n",
       "      <td>NaN</td>\n",
       "      <td>NaN</td>\n",
       "    </tr>\n",
       "    <tr>\n",
       "      <th>2003-05-01 11:00:00</th>\n",
       "      <td>0.642854</td>\n",
       "      <td>0.643663</td>\n",
       "      <td>0.637437</td>\n",
       "      <td>0.626562</td>\n",
       "      <td>0.585890</td>\n",
       "      <td>0.519224</td>\n",
       "      <td>0.474631</td>\n",
       "      <td>0.454053</td>\n",
       "      <td>0.450414</td>\n",
       "      <td>0.457166</td>\n",
       "      <td>...</td>\n",
       "      <td>NaN</td>\n",
       "      <td>NaN</td>\n",
       "      <td>NaN</td>\n",
       "      <td>NaN</td>\n",
       "      <td>NaN</td>\n",
       "      <td>NaN</td>\n",
       "      <td>NaN</td>\n",
       "      <td>NaN</td>\n",
       "      <td>NaN</td>\n",
       "      <td>NaN</td>\n",
       "    </tr>\n",
       "    <tr>\n",
       "      <th>2003-05-01 12:00:00</th>\n",
       "      <td>0.640833</td>\n",
       "      <td>0.642854</td>\n",
       "      <td>0.643663</td>\n",
       "      <td>0.637437</td>\n",
       "      <td>0.626562</td>\n",
       "      <td>0.585890</td>\n",
       "      <td>0.519224</td>\n",
       "      <td>0.474631</td>\n",
       "      <td>0.454053</td>\n",
       "      <td>0.450414</td>\n",
       "      <td>...</td>\n",
       "      <td>NaN</td>\n",
       "      <td>NaN</td>\n",
       "      <td>NaN</td>\n",
       "      <td>NaN</td>\n",
       "      <td>NaN</td>\n",
       "      <td>NaN</td>\n",
       "      <td>NaN</td>\n",
       "      <td>NaN</td>\n",
       "      <td>NaN</td>\n",
       "      <td>NaN</td>\n",
       "    </tr>\n",
       "    <tr>\n",
       "      <th>2003-05-01 13:00:00</th>\n",
       "      <td>0.640712</td>\n",
       "      <td>0.640833</td>\n",
       "      <td>0.642854</td>\n",
       "      <td>0.643663</td>\n",
       "      <td>0.637437</td>\n",
       "      <td>0.626562</td>\n",
       "      <td>0.585890</td>\n",
       "      <td>0.519224</td>\n",
       "      <td>0.474631</td>\n",
       "      <td>0.454053</td>\n",
       "      <td>...</td>\n",
       "      <td>NaN</td>\n",
       "      <td>NaN</td>\n",
       "      <td>NaN</td>\n",
       "      <td>NaN</td>\n",
       "      <td>NaN</td>\n",
       "      <td>NaN</td>\n",
       "      <td>NaN</td>\n",
       "      <td>NaN</td>\n",
       "      <td>NaN</td>\n",
       "      <td>NaN</td>\n",
       "    </tr>\n",
       "    <tr>\n",
       "      <th>2003-05-01 14:00:00</th>\n",
       "      <td>0.635456</td>\n",
       "      <td>0.640712</td>\n",
       "      <td>0.640833</td>\n",
       "      <td>0.642854</td>\n",
       "      <td>0.643663</td>\n",
       "      <td>0.637437</td>\n",
       "      <td>0.626562</td>\n",
       "      <td>0.585890</td>\n",
       "      <td>0.519224</td>\n",
       "      <td>0.474631</td>\n",
       "      <td>...</td>\n",
       "      <td>NaN</td>\n",
       "      <td>NaN</td>\n",
       "      <td>NaN</td>\n",
       "      <td>NaN</td>\n",
       "      <td>NaN</td>\n",
       "      <td>NaN</td>\n",
       "      <td>NaN</td>\n",
       "      <td>NaN</td>\n",
       "      <td>NaN</td>\n",
       "      <td>NaN</td>\n",
       "    </tr>\n",
       "    <tr>\n",
       "      <th>2003-05-01 15:00:00</th>\n",
       "      <td>0.636669</td>\n",
       "      <td>0.635456</td>\n",
       "      <td>0.640712</td>\n",
       "      <td>0.640833</td>\n",
       "      <td>0.642854</td>\n",
       "      <td>0.643663</td>\n",
       "      <td>0.637437</td>\n",
       "      <td>0.626562</td>\n",
       "      <td>0.585890</td>\n",
       "      <td>0.519224</td>\n",
       "      <td>...</td>\n",
       "      <td>NaN</td>\n",
       "      <td>NaN</td>\n",
       "      <td>NaN</td>\n",
       "      <td>NaN</td>\n",
       "      <td>NaN</td>\n",
       "      <td>NaN</td>\n",
       "      <td>NaN</td>\n",
       "      <td>NaN</td>\n",
       "      <td>NaN</td>\n",
       "      <td>NaN</td>\n",
       "    </tr>\n",
       "    <tr>\n",
       "      <th>2003-05-01 16:00:00</th>\n",
       "      <td>0.641803</td>\n",
       "      <td>0.636669</td>\n",
       "      <td>0.635456</td>\n",
       "      <td>0.640712</td>\n",
       "      <td>0.640833</td>\n",
       "      <td>0.642854</td>\n",
       "      <td>0.643663</td>\n",
       "      <td>0.637437</td>\n",
       "      <td>0.626562</td>\n",
       "      <td>0.585890</td>\n",
       "      <td>...</td>\n",
       "      <td>0.462179</td>\n",
       "      <td>NaN</td>\n",
       "      <td>NaN</td>\n",
       "      <td>NaN</td>\n",
       "      <td>NaN</td>\n",
       "      <td>NaN</td>\n",
       "      <td>NaN</td>\n",
       "      <td>NaN</td>\n",
       "      <td>NaN</td>\n",
       "      <td>NaN</td>\n",
       "    </tr>\n",
       "    <tr>\n",
       "      <th>2003-05-01 17:00:00</th>\n",
       "      <td>0.637882</td>\n",
       "      <td>0.641803</td>\n",
       "      <td>0.636669</td>\n",
       "      <td>0.635456</td>\n",
       "      <td>0.640712</td>\n",
       "      <td>0.640833</td>\n",
       "      <td>0.642854</td>\n",
       "      <td>0.643663</td>\n",
       "      <td>0.637437</td>\n",
       "      <td>0.626562</td>\n",
       "      <td>...</td>\n",
       "      <td>0.457166</td>\n",
       "      <td>0.462179</td>\n",
       "      <td>NaN</td>\n",
       "      <td>NaN</td>\n",
       "      <td>NaN</td>\n",
       "      <td>NaN</td>\n",
       "      <td>NaN</td>\n",
       "      <td>NaN</td>\n",
       "      <td>NaN</td>\n",
       "      <td>NaN</td>\n",
       "    </tr>\n",
       "    <tr>\n",
       "      <th>2003-05-01 18:00:00</th>\n",
       "      <td>0.625551</td>\n",
       "      <td>0.637882</td>\n",
       "      <td>0.641803</td>\n",
       "      <td>0.636669</td>\n",
       "      <td>0.635456</td>\n",
       "      <td>0.640712</td>\n",
       "      <td>0.640833</td>\n",
       "      <td>0.642854</td>\n",
       "      <td>0.643663</td>\n",
       "      <td>0.637437</td>\n",
       "      <td>...</td>\n",
       "      <td>0.450414</td>\n",
       "      <td>0.457166</td>\n",
       "      <td>0.462179</td>\n",
       "      <td>NaN</td>\n",
       "      <td>NaN</td>\n",
       "      <td>NaN</td>\n",
       "      <td>NaN</td>\n",
       "      <td>NaN</td>\n",
       "      <td>NaN</td>\n",
       "      <td>NaN</td>\n",
       "    </tr>\n",
       "    <tr>\n",
       "      <th>2003-05-01 19:00:00</th>\n",
       "      <td>0.620336</td>\n",
       "      <td>0.625551</td>\n",
       "      <td>0.637882</td>\n",
       "      <td>0.641803</td>\n",
       "      <td>0.636669</td>\n",
       "      <td>0.635456</td>\n",
       "      <td>0.640712</td>\n",
       "      <td>0.640833</td>\n",
       "      <td>0.642854</td>\n",
       "      <td>0.643663</td>\n",
       "      <td>...</td>\n",
       "      <td>0.454053</td>\n",
       "      <td>0.450414</td>\n",
       "      <td>0.457166</td>\n",
       "      <td>0.462179</td>\n",
       "      <td>NaN</td>\n",
       "      <td>NaN</td>\n",
       "      <td>NaN</td>\n",
       "      <td>NaN</td>\n",
       "      <td>NaN</td>\n",
       "      <td>NaN</td>\n",
       "    </tr>\n",
       "    <tr>\n",
       "      <th>2003-05-01 20:00:00</th>\n",
       "      <td>0.636103</td>\n",
       "      <td>0.620336</td>\n",
       "      <td>0.625551</td>\n",
       "      <td>0.637882</td>\n",
       "      <td>0.641803</td>\n",
       "      <td>0.636669</td>\n",
       "      <td>0.635456</td>\n",
       "      <td>0.640712</td>\n",
       "      <td>0.640833</td>\n",
       "      <td>0.642854</td>\n",
       "      <td>...</td>\n",
       "      <td>0.474631</td>\n",
       "      <td>0.454053</td>\n",
       "      <td>0.450414</td>\n",
       "      <td>0.457166</td>\n",
       "      <td>0.462179</td>\n",
       "      <td>NaN</td>\n",
       "      <td>NaN</td>\n",
       "      <td>NaN</td>\n",
       "      <td>NaN</td>\n",
       "      <td>NaN</td>\n",
       "    </tr>\n",
       "    <tr>\n",
       "      <th>2003-05-01 21:00:00</th>\n",
       "      <td>0.623974</td>\n",
       "      <td>0.636103</td>\n",
       "      <td>0.620336</td>\n",
       "      <td>0.625551</td>\n",
       "      <td>0.637882</td>\n",
       "      <td>0.641803</td>\n",
       "      <td>0.636669</td>\n",
       "      <td>0.635456</td>\n",
       "      <td>0.640712</td>\n",
       "      <td>0.640833</td>\n",
       "      <td>...</td>\n",
       "      <td>0.519224</td>\n",
       "      <td>0.474631</td>\n",
       "      <td>0.454053</td>\n",
       "      <td>0.450414</td>\n",
       "      <td>0.457166</td>\n",
       "      <td>0.462179</td>\n",
       "      <td>NaN</td>\n",
       "      <td>NaN</td>\n",
       "      <td>NaN</td>\n",
       "      <td>NaN</td>\n",
       "    </tr>\n",
       "    <tr>\n",
       "      <th>2003-05-01 22:00:00</th>\n",
       "      <td>0.577239</td>\n",
       "      <td>0.623974</td>\n",
       "      <td>0.636103</td>\n",
       "      <td>0.620336</td>\n",
       "      <td>0.625551</td>\n",
       "      <td>0.637882</td>\n",
       "      <td>0.641803</td>\n",
       "      <td>0.636669</td>\n",
       "      <td>0.635456</td>\n",
       "      <td>0.640712</td>\n",
       "      <td>...</td>\n",
       "      <td>0.585890</td>\n",
       "      <td>0.519224</td>\n",
       "      <td>0.474631</td>\n",
       "      <td>0.454053</td>\n",
       "      <td>0.450414</td>\n",
       "      <td>0.457166</td>\n",
       "      <td>0.462179</td>\n",
       "      <td>NaN</td>\n",
       "      <td>NaN</td>\n",
       "      <td>NaN</td>\n",
       "    </tr>\n",
       "    <tr>\n",
       "      <th>2003-05-01 23:00:00</th>\n",
       "      <td>0.523024</td>\n",
       "      <td>0.577239</td>\n",
       "      <td>0.623974</td>\n",
       "      <td>0.636103</td>\n",
       "      <td>0.620336</td>\n",
       "      <td>0.625551</td>\n",
       "      <td>0.637882</td>\n",
       "      <td>0.641803</td>\n",
       "      <td>0.636669</td>\n",
       "      <td>0.635456</td>\n",
       "      <td>...</td>\n",
       "      <td>0.626562</td>\n",
       "      <td>0.585890</td>\n",
       "      <td>0.519224</td>\n",
       "      <td>0.474631</td>\n",
       "      <td>0.454053</td>\n",
       "      <td>0.450414</td>\n",
       "      <td>0.457166</td>\n",
       "      <td>0.462179</td>\n",
       "      <td>NaN</td>\n",
       "      <td>NaN</td>\n",
       "    </tr>\n",
       "    <tr>\n",
       "      <th>2003-05-02 00:00:00</th>\n",
       "      <td>0.488256</td>\n",
       "      <td>0.523024</td>\n",
       "      <td>0.577239</td>\n",
       "      <td>0.623974</td>\n",
       "      <td>0.636103</td>\n",
       "      <td>0.620336</td>\n",
       "      <td>0.625551</td>\n",
       "      <td>0.637882</td>\n",
       "      <td>0.641803</td>\n",
       "      <td>0.636669</td>\n",
       "      <td>...</td>\n",
       "      <td>0.637437</td>\n",
       "      <td>0.626562</td>\n",
       "      <td>0.585890</td>\n",
       "      <td>0.519224</td>\n",
       "      <td>0.474631</td>\n",
       "      <td>0.454053</td>\n",
       "      <td>0.450414</td>\n",
       "      <td>0.457166</td>\n",
       "      <td>0.462179</td>\n",
       "      <td>NaN</td>\n",
       "    </tr>\n",
       "  </tbody>\n",
       "</table>\n",
       "<p>24 rows × 25 columns</p>\n",
       "</div>"
      ],
      "text/plain": [
       "                       Scaled   shift_1   shift_2   shift_3   shift_4  \\\n",
       "Datetime                                                                \n",
       "2003-05-01 01:00:00  0.462179       NaN       NaN       NaN       NaN   \n",
       "2003-05-01 02:00:00  0.457166  0.462179       NaN       NaN       NaN   \n",
       "2003-05-01 03:00:00  0.450414  0.457166  0.462179       NaN       NaN   \n",
       "2003-05-01 04:00:00  0.454053  0.450414  0.457166  0.462179       NaN   \n",
       "2003-05-01 05:00:00  0.474631  0.454053  0.450414  0.457166  0.462179   \n",
       "2003-05-01 06:00:00  0.519224  0.474631  0.454053  0.450414  0.457166   \n",
       "2003-05-01 07:00:00  0.585890  0.519224  0.474631  0.454053  0.450414   \n",
       "2003-05-01 08:00:00  0.626562  0.585890  0.519224  0.474631  0.454053   \n",
       "2003-05-01 09:00:00  0.637437  0.626562  0.585890  0.519224  0.474631   \n",
       "2003-05-01 10:00:00  0.643663  0.637437  0.626562  0.585890  0.519224   \n",
       "2003-05-01 11:00:00  0.642854  0.643663  0.637437  0.626562  0.585890   \n",
       "2003-05-01 12:00:00  0.640833  0.642854  0.643663  0.637437  0.626562   \n",
       "2003-05-01 13:00:00  0.640712  0.640833  0.642854  0.643663  0.637437   \n",
       "2003-05-01 14:00:00  0.635456  0.640712  0.640833  0.642854  0.643663   \n",
       "2003-05-01 15:00:00  0.636669  0.635456  0.640712  0.640833  0.642854   \n",
       "2003-05-01 16:00:00  0.641803  0.636669  0.635456  0.640712  0.640833   \n",
       "2003-05-01 17:00:00  0.637882  0.641803  0.636669  0.635456  0.640712   \n",
       "2003-05-01 18:00:00  0.625551  0.637882  0.641803  0.636669  0.635456   \n",
       "2003-05-01 19:00:00  0.620336  0.625551  0.637882  0.641803  0.636669   \n",
       "2003-05-01 20:00:00  0.636103  0.620336  0.625551  0.637882  0.641803   \n",
       "2003-05-01 21:00:00  0.623974  0.636103  0.620336  0.625551  0.637882   \n",
       "2003-05-01 22:00:00  0.577239  0.623974  0.636103  0.620336  0.625551   \n",
       "2003-05-01 23:00:00  0.523024  0.577239  0.623974  0.636103  0.620336   \n",
       "2003-05-02 00:00:00  0.488256  0.523024  0.577239  0.623974  0.636103   \n",
       "\n",
       "                      shift_5   shift_6   shift_7   shift_8   shift_9  \\\n",
       "Datetime                                                                \n",
       "2003-05-01 01:00:00       NaN       NaN       NaN       NaN       NaN   \n",
       "2003-05-01 02:00:00       NaN       NaN       NaN       NaN       NaN   \n",
       "2003-05-01 03:00:00       NaN       NaN       NaN       NaN       NaN   \n",
       "2003-05-01 04:00:00       NaN       NaN       NaN       NaN       NaN   \n",
       "2003-05-01 05:00:00       NaN       NaN       NaN       NaN       NaN   \n",
       "2003-05-01 06:00:00  0.462179       NaN       NaN       NaN       NaN   \n",
       "2003-05-01 07:00:00  0.457166  0.462179       NaN       NaN       NaN   \n",
       "2003-05-01 08:00:00  0.450414  0.457166  0.462179       NaN       NaN   \n",
       "2003-05-01 09:00:00  0.454053  0.450414  0.457166  0.462179       NaN   \n",
       "2003-05-01 10:00:00  0.474631  0.454053  0.450414  0.457166  0.462179   \n",
       "2003-05-01 11:00:00  0.519224  0.474631  0.454053  0.450414  0.457166   \n",
       "2003-05-01 12:00:00  0.585890  0.519224  0.474631  0.454053  0.450414   \n",
       "2003-05-01 13:00:00  0.626562  0.585890  0.519224  0.474631  0.454053   \n",
       "2003-05-01 14:00:00  0.637437  0.626562  0.585890  0.519224  0.474631   \n",
       "2003-05-01 15:00:00  0.643663  0.637437  0.626562  0.585890  0.519224   \n",
       "2003-05-01 16:00:00  0.642854  0.643663  0.637437  0.626562  0.585890   \n",
       "2003-05-01 17:00:00  0.640833  0.642854  0.643663  0.637437  0.626562   \n",
       "2003-05-01 18:00:00  0.640712  0.640833  0.642854  0.643663  0.637437   \n",
       "2003-05-01 19:00:00  0.635456  0.640712  0.640833  0.642854  0.643663   \n",
       "2003-05-01 20:00:00  0.636669  0.635456  0.640712  0.640833  0.642854   \n",
       "2003-05-01 21:00:00  0.641803  0.636669  0.635456  0.640712  0.640833   \n",
       "2003-05-01 22:00:00  0.637882  0.641803  0.636669  0.635456  0.640712   \n",
       "2003-05-01 23:00:00  0.625551  0.637882  0.641803  0.636669  0.635456   \n",
       "2003-05-02 00:00:00  0.620336  0.625551  0.637882  0.641803  0.636669   \n",
       "\n",
       "                       ...     shift_15  shift_16  shift_17  shift_18  \\\n",
       "Datetime               ...                                              \n",
       "2003-05-01 01:00:00    ...          NaN       NaN       NaN       NaN   \n",
       "2003-05-01 02:00:00    ...          NaN       NaN       NaN       NaN   \n",
       "2003-05-01 03:00:00    ...          NaN       NaN       NaN       NaN   \n",
       "2003-05-01 04:00:00    ...          NaN       NaN       NaN       NaN   \n",
       "2003-05-01 05:00:00    ...          NaN       NaN       NaN       NaN   \n",
       "2003-05-01 06:00:00    ...          NaN       NaN       NaN       NaN   \n",
       "2003-05-01 07:00:00    ...          NaN       NaN       NaN       NaN   \n",
       "2003-05-01 08:00:00    ...          NaN       NaN       NaN       NaN   \n",
       "2003-05-01 09:00:00    ...          NaN       NaN       NaN       NaN   \n",
       "2003-05-01 10:00:00    ...          NaN       NaN       NaN       NaN   \n",
       "2003-05-01 11:00:00    ...          NaN       NaN       NaN       NaN   \n",
       "2003-05-01 12:00:00    ...          NaN       NaN       NaN       NaN   \n",
       "2003-05-01 13:00:00    ...          NaN       NaN       NaN       NaN   \n",
       "2003-05-01 14:00:00    ...          NaN       NaN       NaN       NaN   \n",
       "2003-05-01 15:00:00    ...          NaN       NaN       NaN       NaN   \n",
       "2003-05-01 16:00:00    ...     0.462179       NaN       NaN       NaN   \n",
       "2003-05-01 17:00:00    ...     0.457166  0.462179       NaN       NaN   \n",
       "2003-05-01 18:00:00    ...     0.450414  0.457166  0.462179       NaN   \n",
       "2003-05-01 19:00:00    ...     0.454053  0.450414  0.457166  0.462179   \n",
       "2003-05-01 20:00:00    ...     0.474631  0.454053  0.450414  0.457166   \n",
       "2003-05-01 21:00:00    ...     0.519224  0.474631  0.454053  0.450414   \n",
       "2003-05-01 22:00:00    ...     0.585890  0.519224  0.474631  0.454053   \n",
       "2003-05-01 23:00:00    ...     0.626562  0.585890  0.519224  0.474631   \n",
       "2003-05-02 00:00:00    ...     0.637437  0.626562  0.585890  0.519224   \n",
       "\n",
       "                     shift_19  shift_20  shift_21  shift_22  shift_23  \\\n",
       "Datetime                                                                \n",
       "2003-05-01 01:00:00       NaN       NaN       NaN       NaN       NaN   \n",
       "2003-05-01 02:00:00       NaN       NaN       NaN       NaN       NaN   \n",
       "2003-05-01 03:00:00       NaN       NaN       NaN       NaN       NaN   \n",
       "2003-05-01 04:00:00       NaN       NaN       NaN       NaN       NaN   \n",
       "2003-05-01 05:00:00       NaN       NaN       NaN       NaN       NaN   \n",
       "2003-05-01 06:00:00       NaN       NaN       NaN       NaN       NaN   \n",
       "2003-05-01 07:00:00       NaN       NaN       NaN       NaN       NaN   \n",
       "2003-05-01 08:00:00       NaN       NaN       NaN       NaN       NaN   \n",
       "2003-05-01 09:00:00       NaN       NaN       NaN       NaN       NaN   \n",
       "2003-05-01 10:00:00       NaN       NaN       NaN       NaN       NaN   \n",
       "2003-05-01 11:00:00       NaN       NaN       NaN       NaN       NaN   \n",
       "2003-05-01 12:00:00       NaN       NaN       NaN       NaN       NaN   \n",
       "2003-05-01 13:00:00       NaN       NaN       NaN       NaN       NaN   \n",
       "2003-05-01 14:00:00       NaN       NaN       NaN       NaN       NaN   \n",
       "2003-05-01 15:00:00       NaN       NaN       NaN       NaN       NaN   \n",
       "2003-05-01 16:00:00       NaN       NaN       NaN       NaN       NaN   \n",
       "2003-05-01 17:00:00       NaN       NaN       NaN       NaN       NaN   \n",
       "2003-05-01 18:00:00       NaN       NaN       NaN       NaN       NaN   \n",
       "2003-05-01 19:00:00       NaN       NaN       NaN       NaN       NaN   \n",
       "2003-05-01 20:00:00  0.462179       NaN       NaN       NaN       NaN   \n",
       "2003-05-01 21:00:00  0.457166  0.462179       NaN       NaN       NaN   \n",
       "2003-05-01 22:00:00  0.450414  0.457166  0.462179       NaN       NaN   \n",
       "2003-05-01 23:00:00  0.454053  0.450414  0.457166  0.462179       NaN   \n",
       "2003-05-02 00:00:00  0.474631  0.454053  0.450414  0.457166  0.462179   \n",
       "\n",
       "                     shift_24  \n",
       "Datetime                       \n",
       "2003-05-01 01:00:00       NaN  \n",
       "2003-05-01 02:00:00       NaN  \n",
       "2003-05-01 03:00:00       NaN  \n",
       "2003-05-01 04:00:00       NaN  \n",
       "2003-05-01 05:00:00       NaN  \n",
       "2003-05-01 06:00:00       NaN  \n",
       "2003-05-01 07:00:00       NaN  \n",
       "2003-05-01 08:00:00       NaN  \n",
       "2003-05-01 09:00:00       NaN  \n",
       "2003-05-01 10:00:00       NaN  \n",
       "2003-05-01 11:00:00       NaN  \n",
       "2003-05-01 12:00:00       NaN  \n",
       "2003-05-01 13:00:00       NaN  \n",
       "2003-05-01 14:00:00       NaN  \n",
       "2003-05-01 15:00:00       NaN  \n",
       "2003-05-01 16:00:00       NaN  \n",
       "2003-05-01 17:00:00       NaN  \n",
       "2003-05-01 18:00:00       NaN  \n",
       "2003-05-01 19:00:00       NaN  \n",
       "2003-05-01 20:00:00       NaN  \n",
       "2003-05-01 21:00:00       NaN  \n",
       "2003-05-01 22:00:00       NaN  \n",
       "2003-05-01 23:00:00       NaN  \n",
       "2003-05-02 00:00:00       NaN  \n",
       "\n",
       "[24 rows x 25 columns]"
      ]
     },
     "execution_count": 28,
     "metadata": {},
     "output_type": "execute_result"
    }
   ],
   "source": [
    "train_sc_df.head(window_size)"
   ]
  },
  {
   "cell_type": "code",
   "execution_count": 29,
   "metadata": {},
   "outputs": [],
   "source": [
    "X_train = train_sc_df.dropna().drop('Scaled', axis=1).values\n",
    "y_train = train_sc_df.dropna()[['Scaled']].values\n",
    "\n",
    "X_test = test_sc_df.dropna().drop('Scaled', axis=1).values\n",
    "y_test = test_sc_df.dropna()[['Scaled']].values"
   ]
  },
  {
   "cell_type": "code",
   "execution_count": 30,
   "metadata": {},
   "outputs": [
    {
     "data": {
      "text/plain": [
       "(93528, 24)"
      ]
     },
     "execution_count": 30,
     "metadata": {},
     "output_type": "execute_result"
    }
   ],
   "source": [
    "X_train.shape"
   ]
  },
  {
   "cell_type": "markdown",
   "metadata": {},
   "source": [
    "### Fully Connected on Windows"
   ]
  },
  {
   "cell_type": "code",
   "execution_count": 31,
   "metadata": {},
   "outputs": [
    {
     "name": "stdout",
     "output_type": "stream",
     "text": [
      "_________________________________________________________________\n",
      "Layer (type)                 Output Shape              Param #   \n",
      "=================================================================\n",
      "dense_1 (Dense)              (None, 12)                300       \n",
      "_________________________________________________________________\n",
      "dense_2 (Dense)              (None, 1)                 13        \n",
      "=================================================================\n",
      "Total params: 313\n",
      "Trainable params: 313\n",
      "Non-trainable params: 0\n",
      "_________________________________________________________________\n"
     ]
    }
   ],
   "source": [
    "K.clear_session()\n",
    "\n",
    "model = Sequential()\n",
    "model.add(Dense(12, input_dim=window_size, activation='relu'))\n",
    "model.add(Dense(1))\n",
    "model.compile(loss='mean_squared_error', optimizer='adam')\n",
    "model.summary()"
   ]
  },
  {
   "cell_type": "code",
   "execution_count": 32,
   "metadata": {
    "scrolled": true
   },
   "outputs": [
    {
     "name": "stdout",
     "output_type": "stream",
     "text": [
      "Epoch 1/200\n",
      "93528/93528 [==============================] - 1s 8us/step - loss: 0.0066\n",
      "Epoch 2/200\n",
      "93528/93528 [==============================] - 1s 7us/step - loss: 0.0029\n",
      "Epoch 3/200\n",
      "93528/93528 [==============================] - 1s 7us/step - loss: 0.0017\n",
      "Epoch 4/200\n",
      "93528/93528 [==============================] - 1s 7us/step - loss: 0.0012\n",
      "Epoch 5/200\n",
      "93528/93528 [==============================] - 1s 7us/step - loss: 9.9209e-04\n",
      "Epoch 6/200\n",
      "93528/93528 [==============================] - 1s 7us/step - loss: 8.1487e-04\n",
      "Epoch 7/200\n",
      "93528/93528 [==============================] - 1s 7us/step - loss: 6.7869e-04\n",
      "Epoch 8/200\n",
      "93528/93528 [==============================] - 1s 7us/step - loss: 5.6714e-04\n",
      "Epoch 9/200\n",
      "93528/93528 [==============================] - 1s 7us/step - loss: 4.8538e-04\n",
      "Epoch 10/200\n",
      "93528/93528 [==============================] - 1s 7us/step - loss: 4.2417e-04\n",
      "Epoch 11/200\n",
      "93528/93528 [==============================] - 1s 7us/step - loss: 3.8765e-04\n",
      "Epoch 12/200\n",
      "93528/93528 [==============================] - 1s 7us/step - loss: 3.5963e-04\n",
      "Epoch 13/200\n",
      "93528/93528 [==============================] - 1s 7us/step - loss: 3.3344e-04\n",
      "Epoch 14/200\n",
      "93528/93528 [==============================] - 1s 7us/step - loss: 3.1347e-04\n",
      "Epoch 15/200\n",
      "93528/93528 [==============================] - 1s 7us/step - loss: 2.8061e-04\n",
      "Epoch 16/200\n",
      "93528/93528 [==============================] - 1s 7us/step - loss: 2.5458e-04\n",
      "Epoch 17/200\n",
      "93528/93528 [==============================] - 1s 7us/step - loss: 2.4105e-04\n",
      "Epoch 18/200\n",
      "93528/93528 [==============================] - 1s 7us/step - loss: 2.2720e-04\n",
      "Epoch 19/200\n",
      "93528/93528 [==============================] - 1s 8us/step - loss: 2.1619e-04\n",
      "Epoch 20/200\n",
      "93528/93528 [==============================] - 1s 7us/step - loss: 2.1031e-04\n",
      "Epoch 21/200\n",
      "93528/93528 [==============================] - 1s 7us/step - loss: 2.0803e-04\n",
      "Epoch 22/200\n",
      "93528/93528 [==============================] - 1s 7us/step - loss: 1.9585e-04\n",
      "Epoch 23/200\n",
      "93528/93528 [==============================] - 1s 7us/step - loss: 1.9170e-04\n",
      "Epoch 24/200\n",
      "93528/93528 [==============================] - 1s 7us/step - loss: 1.8812e-04\n",
      "Epoch 25/200\n",
      "93528/93528 [==============================] - 1s 7us/step - loss: 1.9136e-04\n",
      "Epoch 00025: early stopping\n"
     ]
    },
    {
     "data": {
      "text/plain": [
       "<keras.callbacks.History at 0x7fb1b67fa160>"
      ]
     },
     "execution_count": 32,
     "metadata": {},
     "output_type": "execute_result"
    }
   ],
   "source": [
    "model.fit(X_train, y_train, epochs=200,\n",
    "          batch_size=500, verbose=1, callbacks=[early_stop])"
   ]
  },
  {
   "cell_type": "code",
   "execution_count": 33,
   "metadata": {},
   "outputs": [],
   "source": [
    "y_pred_fc_window = model.predict(X_test)"
   ]
  },
  {
   "cell_type": "code",
   "execution_count": 34,
   "metadata": {},
   "outputs": [
    {
     "data": {
      "text/plain": [
       "(1200, 1300)"
      ]
     },
     "execution_count": 34,
     "metadata": {},
     "output_type": "execute_result"
    },
    {
     "data": {
      "image/png": "[encoded data removed]",
      "text/plain": [
       "<Figure size 1080x360 with 1 Axes>"
      ]
     },
     "metadata": {
      "needs_background": "light"
     },
     "output_type": "display_data"
    }
   ],
   "source": [
    "plt.figure(figsize=(15,5))\n",
    "plt.plot(y_test)\n",
    "plt.plot(y_pred_fc_window)\n",
    "plt.xlim(1200,1300)"
   ]
  },
  {
   "cell_type": "code",
   "execution_count": 35,
   "metadata": {},
   "outputs": [
    {
     "data": {
      "text/plain": [
       "(22800, 22900)"
      ]
     },
     "execution_count": 35,
     "metadata": {},
     "output_type": "execute_result"
    },
    {
     "data": {
      "image/png": "[encoded data removed]",
      "text/plain": [
       "<Figure size 1080x360 with 1 Axes>"
      ]
     },
     "metadata": {
      "needs_background": "light"
     },
     "output_type": "display_data"
    }
   ],
   "source": [
    "plt.figure(figsize=(15,5))\n",
    "plt.plot(y_test)\n",
    "plt.plot(y_pred_fc_window)\n",
    "plt.xlim(22800,22900)"
   ]
  },
  {
   "cell_type": "markdown",
   "metadata": {},
   "source": [
    "## Exercise"
   ]
  },
  {
   "cell_type": "markdown",
   "metadata": {},
   "source": [
    "Reshape the input to `(num_samples, window_size, 1)`. This means we consider each input window as a sequence of `window_size` values that we will pass in sequence to the LSTM. In principle this looks like a more accurate description of our situation. But does it yield better predictions? Let's check it.\n",
    "\n",
    "- Reshape `X_train` and `X_test` so that they represent a set of univariate sequences\n",
    "- train the best recurrent model you can, you'll have to adapt the `input_shape`\n",
    "- check the performance of this new model, is it better at predicting the test data?\n",
    "- plot your results\n",
    "- try using GRU instead of LSTM"
   ]
  },
  {
   "cell_type": "code",
   "execution_count": 36,
   "metadata": {},
   "outputs": [],
   "source": [
    "from keras.layers import LSTM"
   ]
  },
  {
   "cell_type": "code",
   "execution_count": null,
   "metadata": {
    "collapsed": true
   },
   "outputs": [],
   "source": []
  }
 ],
 "metadata": {
  "kernelspec": {
   "display_name": "Python 3",
   "language": "python",
   "name": "python3"
  },
  "language_info": {
   "codemirror_mode": {
    "name": "ipython",
    "version": 3
   },
   "file_extension": ".py",
   "mimetype": "text/x-python",
   "name": "python",
   "nbconvert_exporter": "python",
   "pygments_lexer": "ipython3",
   "version": "3.6.6"
  }
 },
 "nbformat": 4,
 "nbformat_minor": 2
}
